{
  "nbformat": 4,
  "nbformat_minor": 0,
  "metadata": {
    "colab": {
      "provenance": [],
      "machine_shape": "hm",
      "include_colab_link": true
    },
    "kernelspec": {
      "name": "python3",
      "display_name": "Python 3"
    },
    "language_info": {
      "name": "python"
    },
    "gpuClass": "premium",
    "accelerator": "GPU"
  },
  "cells": [
    {
      "cell_type": "markdown",
      "metadata": {
        "id": "view-in-github",
        "colab_type": "text"
      },
      "source": [
        "<a href=\"https://colab.research.google.com/github/Sunday-Okey/AIND-Machine-Translation/blob/master/NLP_Final_Project.ipynb\" target=\"_parent\"><img src=\"https://colab.research.google.com/assets/colab-badge.svg\" alt=\"Open In Colab\"/></a>"
      ]
    },
    {
      "cell_type": "code",
      "source": [
        "# import the libraries\n",
        "import collections\n",
        "import re\n",
        "import numpy as np\n",
        "from keras import optimizers\n",
        "\n",
        "from keras.preprocessing.text import Tokenizer\n",
        "# from keras_preprocessing.sequence import pad_sequences\n",
        "from keras.models import Model, Sequential\n",
        "from keras.layers import LSTM, GRU, Input, Dense, TimeDistributed, Activation, RepeatVector, Bidirectional, Dropout\n",
        "from tensorflow.keras.layers import Embedding\n",
        "from keras.optimizers import Adam\n",
        "from keras.losses import sparse_categorical_crossentropy\n",
        "from keras.models import load_model\n",
        "import os\n",
        "import string\n",
        "import requests\n",
        "from keras.utils import pad_sequences\n",
        "import unicodedata\n",
        "from keras.callbacks import ModelCheckpoint\n",
        "import regex"
      ],
      "metadata": {
        "id": "CaUagM43ir9X"
      },
      "execution_count": 1,
      "outputs": []
    },
    {
      "cell_type": "code",
      "source": [
        "from google.colab import drive\n",
        "drive.mount('/content/drive')"
      ],
      "metadata": {
        "id": "0ShmzwCXy5Y4",
        "outputId": "f3ce2fa5-a55c-4c61-e7bf-05dd1513ffad",
        "colab": {
          "base_uri": "https://localhost:8080/"
        }
      },
      "execution_count": 2,
      "outputs": [
        {
          "output_type": "stream",
          "name": "stdout",
          "text": [
            "Drive already mounted at /content/drive; to attempt to forcibly remount, call drive.mount(\"/content/drive\", force_remount=True).\n"
          ]
        }
      ]
    },
    {
      "cell_type": "code",
      "source": [
        "pwd"
      ],
      "metadata": {
        "id": "88tqRMGqxL0x",
        "outputId": "bf8326f0-15b5-4e64-d962-4a0937641efd",
        "colab": {
          "base_uri": "https://localhost:8080/",
          "height": 35
        }
      },
      "execution_count": 3,
      "outputs": [
        {
          "output_type": "execute_result",
          "data": {
            "text/plain": [
              "'/content'"
            ],
            "application/vnd.google.colaboratory.intrinsic+json": {
              "type": "string"
            }
          },
          "metadata": {},
          "execution_count": 3
        }
      ]
    },
    {
      "cell_type": "code",
      "source": [
        "import os\n",
        "\n",
        "# Set your working directory to a folder in your Google Drive. This way, if your notebook times out,\n",
        "# your files will be saved in your Google Drive!\n",
        "\n",
        "# the base Google Drive directory\n",
        "root_dir = \"/content/drive/My Drive/\"\n",
        "\n",
        "# choose where you want your project files to be saved\n",
        "project_folder = \"Colab Notebooks/NLP_Final_Project/\"\n",
        "\n",
        "def create_and_set_working_directory(project_folder):\n",
        "  # check if your project folder exists. if not, it will be created.\n",
        "  if os.path.isdir(root_dir + project_folder) == False:\n",
        "    os.mkdir(root_dir + project_folder)\n",
        "    print(root_dir + project_folder + ' did not exist but was created.')\n",
        "\n",
        "  # change the OS to use your project folder as the working directory\n",
        "  os.chdir(root_dir + project_folder)\n",
        "\n",
        "  # create a test file to make sure it shows up in the right place\n",
        "  !touch 'new_file_in_working_directory.txt'\n",
        "  print('\\nYour working directory was changed to ' + root_dir + project_folder + \\\n",
        "        \"\\n\\nAn empty text file was created there. You can also run !pwd to confirm the current working directory.\" )\n",
        "\n",
        "create_and_set_working_directory(project_folder)\n"
      ],
      "metadata": {
        "colab": {
          "base_uri": "https://localhost:8080/"
        },
        "id": "0Zocpw3trlUJ",
        "outputId": "87654a6b-bc08-4699-97c0-06b02135033c"
      },
      "execution_count": 4,
      "outputs": [
        {
          "output_type": "stream",
          "name": "stdout",
          "text": [
            "\n",
            "Your working directory was changed to /content/drive/My Drive/Colab Notebooks/NLP_Final_Project/\n",
            "\n",
            "An empty text file was created there. You can also run !pwd to confirm the current working directory.\n"
          ]
        }
      ]
    },
    {
      "cell_type": "markdown",
      "source": [
        "### Extract the file"
      ],
      "metadata": {
        "id": "JRJAGqIdPZik"
      }
    },
    {
      "cell_type": "code",
      "source": [
        "# function to read raw text file\n",
        "def read_text(filename):\n",
        "    # open the file\n",
        "    file = open(filename, mode='rt', encoding='utf-8')\n",
        "    # read all text\n",
        "    text = file.read()\n",
        "    file.close()\n",
        "    return text\n"
      ],
      "metadata": {
        "id": "jOwIMMfiPYSO"
      },
      "execution_count": 5,
      "outputs": []
    },
    {
      "cell_type": "code",
      "source": [
        "# split a text into sentences\n",
        "def to_lines(text):\n",
        "    sents = text.strip().split('\\n')\n",
        "    sents = [i.split('\\t')[:-1] for i in sents]\n",
        "    return sents"
      ],
      "metadata": {
        "id": "PMOTUb-a8Wow"
      },
      "execution_count": 6,
      "outputs": []
    },
    {
      "cell_type": "code",
      "source": [
        "pwd"
      ],
      "metadata": {
        "colab": {
          "base_uri": "https://localhost:8080/",
          "height": 35
        },
        "id": "OdmX-IcCrdLM",
        "outputId": "6059f5bd-2baa-4e65-f654-0a9ad2317ebf"
      },
      "execution_count": 7,
      "outputs": [
        {
          "output_type": "execute_result",
          "data": {
            "text/plain": [
              "'/content/drive/My Drive/Colab Notebooks/NLP_Final_Project'"
            ],
            "application/vnd.google.colaboratory.intrinsic+json": {
              "type": "string"
            }
          },
          "metadata": {},
          "execution_count": 7
        }
      ]
    },
    {
      "cell_type": "code",
      "source": [
        "data = read_text(\"fra.txt\")\n",
        "frn_eng = to_lines(data)\n",
        "# frn_eng[:210000][-3]\n",
        "frn_eng"
      ],
      "metadata": {
        "colab": {
          "base_uri": "https://localhost:8080/"
        },
        "id": "_pHWw7Qn8c82",
        "outputId": "9fb1d12e-500d-4928-cf5a-ef6764ed02da"
      },
      "execution_count": 8,
      "outputs": [
        {
          "output_type": "execute_result",
          "data": {
            "text/plain": [
              "[['Go.', 'Va !'],\n",
              " ['Go.', 'Marche.'],\n",
              " ['Go.', 'En route !'],\n",
              " ['Go.', 'Bouge !'],\n",
              " ['Hi.', 'Salut !'],\n",
              " ['Hi.', 'Salut.'],\n",
              " ['Run!', 'Cours\\u202f!'],\n",
              " ['Run!', 'Courez\\u202f!'],\n",
              " ['Run!', 'Prenez vos jambes à vos cous !'],\n",
              " ['Run!', 'File !'],\n",
              " ['Run!', 'Filez !'],\n",
              " ['Run!', 'Cours !'],\n",
              " ['Run!', 'Fuyez !'],\n",
              " ['Run!', 'Fuyons !'],\n",
              " ['Run.', 'Cours\\u202f!'],\n",
              " ['Run.', 'Courez\\u202f!'],\n",
              " ['Run.', 'Prenez vos jambes à vos cous !'],\n",
              " ['Run.', 'File !'],\n",
              " ['Run.', 'Filez !'],\n",
              " ['Run.', 'Cours !'],\n",
              " ['Run.', 'Fuyez !'],\n",
              " ['Run.', 'Fuyons !'],\n",
              " ['Who?', 'Qui ?'],\n",
              " ['Wow!', 'Ça alors\\u202f!'],\n",
              " ['Wow!', 'Waouh\\xa0!'],\n",
              " ['Wow!', 'Wah\\xa0!'],\n",
              " ['Duck!', 'À terre\\xa0!'],\n",
              " ['Duck!', 'Baisse-toi\\xa0!'],\n",
              " ['Duck!', 'Baissez-vous\\xa0!'],\n",
              " ['Fire!', 'Au feu !'],\n",
              " ['Help!', \"À l'aide\\u202f!\"],\n",
              " ['Hide.', 'Cache-toi.'],\n",
              " ['Hide.', 'Cachez-vous.'],\n",
              " ['Jump!', 'Saute.'],\n",
              " ['Jump.', 'Saute.'],\n",
              " ['Stop!', 'Ça suffit\\u202f!'],\n",
              " ['Stop!', 'Stop\\u202f!'],\n",
              " ['Stop!', 'Arrête-toi !'],\n",
              " ['Wait!', 'Attends !'],\n",
              " ['Wait!', 'Attendez !'],\n",
              " ['Wait!', 'Attendez.'],\n",
              " ['Wait.', 'Attends !'],\n",
              " ['Wait.', 'Attendez !'],\n",
              " ['Wait.', 'Attends.'],\n",
              " ['Wait.', 'Attendez.'],\n",
              " ['Begin.', 'Commencez.'],\n",
              " ['Begin.', 'Commence.'],\n",
              " ['Go on.', 'Poursuis.'],\n",
              " ['Go on.', 'Continuez.'],\n",
              " ['Go on.', 'Poursuivez.'],\n",
              " ['Hello!', 'Bonjour !'],\n",
              " ['Hello!', 'Salut !'],\n",
              " ['Hello.', 'Bonjour !'],\n",
              " ['Hello.', 'Salut !'],\n",
              " ['Hello.', 'Bonjour.'],\n",
              " ['Hello.', 'Salut.'],\n",
              " ['I see.', 'Je comprends.'],\n",
              " ['I see.', 'Aha.'],\n",
              " ['I try.', \"J'essaye.\"],\n",
              " ['I won!', \"J'ai gagné !\"],\n",
              " ['I won!', \"Je l'ai emporté !\"],\n",
              " ['I won.', 'J’ai gagné.'],\n",
              " ['Oh no!', 'Oh non !'],\n",
              " ['Relax.', 'Calme-toi.'],\n",
              " ['Relax.', 'Détends-toi\\u202f!'],\n",
              " ['Relax.', 'Détendez-vous\\u202f!'],\n",
              " ['Relax.', 'Relaxe, Max\\u202f!'],\n",
              " ['Relax.', 'Cool, Raoul\\u202f!'],\n",
              " ['Relax.', 'Du calme\\u202f!'],\n",
              " ['Relax.', 'Relaxe !'],\n",
              " ['Relax.', 'Calmez-vous !'],\n",
              " ['Relax.', 'Détends-toi.'],\n",
              " ['Relax.', 'Détends-toi !'],\n",
              " ['Relax.', 'Du calme.'],\n",
              " ['Relax.', 'Tranquille.'],\n",
              " ['Smile.', 'Souriez\\u202f!'],\n",
              " ['Smile.', 'Souris pour la caméra.'],\n",
              " ['Smile.', 'Souriez\\u2009!'],\n",
              " ['Sorry?', 'Pardon ?'],\n",
              " ['Attack!', 'Attaque !'],\n",
              " ['Attack!', 'Attaquez !'],\n",
              " ['Attack!', \"À l'attaque !\"],\n",
              " ['Attack!', \"À l'attaque\\xa0!\"],\n",
              " ['Buy it.', 'Achetez-la !'],\n",
              " ['Buy it.', 'Achète-le !'],\n",
              " ['Buy it.', 'Achetez-le !'],\n",
              " ['Buy it.', 'Achète-la !'],\n",
              " ['Cheers!', 'Santé !'],\n",
              " ['Cheers!', 'À votre santé !'],\n",
              " ['Cheers!', 'Merci !'],\n",
              " ['Cheers!', 'Tchin-tchin !'],\n",
              " ['Eat it.', 'Mangez-le.'],\n",
              " ['Eat it.', 'Mange-le.'],\n",
              " ['Get up.', 'Lève-toi.'],\n",
              " ['Get up.', 'Lève-toi !'],\n",
              " ['Get up.', 'Debout.'],\n",
              " ['Go now.', 'Va, maintenant.'],\n",
              " ['Go now.', 'Allez-y maintenant.'],\n",
              " ['Go now.', 'Vas-y maintenant.'],\n",
              " ['Got it!', \"J'ai pigé !\"],\n",
              " ['Got it!', 'Compris !'],\n",
              " ['Got it!', 'Aha !'],\n",
              " ['Got it?', 'Pigé\\u202f?'],\n",
              " ['Got it?', 'Compris\\u202f?'],\n",
              " ['Got it?', \"T'as capté\\u202f?\"],\n",
              " ['Hop in.', 'Monte.'],\n",
              " ['Hop in.', 'Montez.'],\n",
              " ['Hug me.', 'Serre-moi dans tes bras !'],\n",
              " ['Hug me.', 'Serrez-moi dans vos bras !'],\n",
              " ['I fell.', 'Je suis tombée.'],\n",
              " ['I fell.', 'Je suis tombé.'],\n",
              " ['I fled.', \"J'ai fui.\"],\n",
              " ['I knit.', 'Je tricote.'],\n",
              " ['I know.', 'Je sais.'],\n",
              " ['I left.', 'Je suis parti.'],\n",
              " ['I left.', 'Je suis partie.'],\n",
              " ['I lied.', \"J'ai menti.\"],\n",
              " ['I lost.', \"J'ai perdu.\"],\n",
              " ['I paid.', 'Je payais.'],\n",
              " ['I paid.', 'Je payai.'],\n",
              " ['I paid.', 'J’ai payé.'],\n",
              " ['I pass.', 'Je passe.'],\n",
              " ['I quit.', \"J'arrête.\"],\n",
              " ['I quit.', \"J'ai arrêté.\"],\n",
              " [\"I'm 19.\", \"J'ai 19 ans.\"],\n",
              " [\"I'm OK.\", 'Je vais bien.'],\n",
              " [\"I'm OK.\", 'Ça va.'],\n",
              " ['Listen.', 'Écoutez !'],\n",
              " ['No way!', \"C'est pas possible\\u202f!\"],\n",
              " ['No way!', 'Impossible\\u202f!'],\n",
              " ['No way!', 'Hors de question\\u202f!'],\n",
              " ['No way!', 'En aucun cas.'],\n",
              " ['No way!', 'Sans façons\\u202f!'],\n",
              " ['No way!', 'Mon œil\\u202f!'],\n",
              " ['No way!', \"C'est hors de question !\"],\n",
              " ['No way!', \"Il n'en est pas question !\"],\n",
              " ['No way!', \"C'est exclu !\"],\n",
              " ['No way!', 'En aucune manière !'],\n",
              " ['No way!', 'Hors de question !'],\n",
              " ['No way!', 'Sans blague !'],\n",
              " ['Really?', 'Vraiment\\u202f?'],\n",
              " ['Really?', 'Vrai ?'],\n",
              " ['Really?', 'Ah bon ?'],\n",
              " ['Really?', 'Ah vraiment ?'],\n",
              " ['Really?', 'Vraiment ?'],\n",
              " ['Thanks!', 'Merci !'],\n",
              " ['Thanks.', 'Je te remercie.'],\n",
              " ['Thanks.', 'Merci !'],\n",
              " ['Thanks.', 'Merci.'],\n",
              " ['Try it.', 'Essaie.'],\n",
              " ['Try it.', 'Essayez.'],\n",
              " ['Try it.', 'Essaye.'],\n",
              " ['We try.', 'On essaye.'],\n",
              " ['We won.', 'Nous avons gagné.'],\n",
              " ['We won.', 'Nous gagnâmes.'],\n",
              " ['We won.', \"Nous l'avons emporté.\"],\n",
              " ['We won.', \"Nous l'emportâmes.\"],\n",
              " ['Ask Tom.', 'Demande à Tom.'],\n",
              " ['Ask him.', 'Demande-lui.'],\n",
              " ['Awesome!', 'Fantastique\\u202f!'],\n",
              " ['Awesome!', 'Sensass !'],\n",
              " ['Awesome!', 'Trop cool !'],\n",
              " ['Be calm.', 'Sois calme !'],\n",
              " ['Be calm.', 'Soyez calme !'],\n",
              " ['Be calm.', 'Soyez calmes !'],\n",
              " ['Be cool.', 'Sois détendu !'],\n",
              " ['Be fair.', 'Sois juste !'],\n",
              " ['Be fair.', 'Soyez juste !'],\n",
              " ['Be fair.', 'Soyez justes !'],\n",
              " ['Be fair.', 'Sois équitable !'],\n",
              " ['Be fair.', 'Soyez équitable !'],\n",
              " ['Be fair.', 'Soyez équitables !'],\n",
              " ['Be fair.', 'Sois honnête.'],\n",
              " ['Be fair.', 'Sois sincère.'],\n",
              " ['Be fair.', 'Soyez honnêtes.'],\n",
              " ['Be kind.', 'Sois gentil.'],\n",
              " ['Be nice.', 'Sois gentil !'],\n",
              " ['Be nice.', 'Sois gentille !'],\n",
              " ['Be nice.', 'Soyez gentil !'],\n",
              " ['Be nice.', 'Soyez gentille !'],\n",
              " ['Be nice.', 'Soyez gentils !'],\n",
              " ['Be nice.', 'Soyez gentilles !'],\n",
              " ['Beat it.', 'Va te faire foutre !'],\n",
              " ['Beat it.', 'Dégage\\u202f!'],\n",
              " ['Beat it.', 'Casse-toi.'],\n",
              " ['Beat it.', 'Pars !'],\n",
              " ['Beat it.', 'Foutez le camp !'],\n",
              " ['Beat it.', 'Fous le camp !'],\n",
              " ['Beat it.', \"Pars d'ici.\"],\n",
              " ['Beat it.', 'Va-t’en\\xa0!'],\n",
              " ['Beat it.', 'Disparais !'],\n",
              " ['Beat it.', 'Fiche le camp.'],\n",
              " ['Beat it.', 'Tire-toi de là.'],\n",
              " ['Beat it.', 'Casse-toi de là.'],\n",
              " ['Beat it.', 'Oust !'],\n",
              " ['Beat it.', 'Dégage.'],\n",
              " ['Beat it.', \"Fiche le camp d'ici.\"],\n",
              " ['Beat it.', 'Déguerpissez.'],\n",
              " ['Beat it.', 'Bouge !'],\n",
              " ['Beat it.', 'Décampe !'],\n",
              " ['Burn it.', 'Brûlez-le.'],\n",
              " ['Burn it.', 'Brûlez-la.'],\n",
              " ['Burn it.', 'Brûle-la.'],\n",
              " ['Burn it.', 'Brûle-le.'],\n",
              " ['Bury it.', 'Enterrez-le.'],\n",
              " ['Bury it.', 'Enterre-le.'],\n",
              " ['Bury it.', 'Enterrez-la.'],\n",
              " ['Bury it.', 'Enterre-la.'],\n",
              " ['Call me.', 'Appelle-moi !'],\n",
              " ['Call me.', 'Appelez-moi\\xa0!'],\n",
              " ['Call us.', 'Appelle-nous !'],\n",
              " ['Call us.', 'Appelez-nous !'],\n",
              " ['Come in.', 'Entrez\\u202f!'],\n",
              " ['Come in.', 'Entre.'],\n",
              " ['Come in.', 'Entre !'],\n",
              " ['Come in.', 'Entrez !'],\n",
              " ['Come on!', 'Allez\\u202f!'],\n",
              " ['Come on!', 'En avant\\u202f!'],\n",
              " ['Come on!', 'Allons !'],\n",
              " ['Come on!', \"C'est pas vrai, dis !\"],\n",
              " ['Come on!', 'Viens\\xa0!'],\n",
              " ['Come on!', 'Venez\\u202f!'],\n",
              " ['Come on!', 'Secouez-vous !'],\n",
              " ['Come on!', 'Secoue-toi !'],\n",
              " ['Come on!', 'Allez, on y va\\xa0!'],\n",
              " ['Come on.', 'Allez !'],\n",
              " ['Come on.', 'Viens\\xa0!'],\n",
              " ['Come on.', 'Venez\\u202f!'],\n",
              " ['Drop it!', 'Laisse tomber !'],\n",
              " ['Drop it!', 'Laissez tomber !'],\n",
              " ['Drop it!', 'Laisse-le tomber !'],\n",
              " ['Drop it!', 'Laissez-le tomber !'],\n",
              " ['Fold it.', 'Pliez-le.'],\n",
              " ['Fold it.', 'Plie-le.'],\n",
              " ['Fold it.', 'Pliez-la.'],\n",
              " ['Fold it.', 'Plie-la.'],\n",
              " ['Get Tom.', 'Va chercher Tom.'],\n",
              " ['Get out!', 'Sors.'],\n",
              " ['Get out!', 'Sortez\\u202f!'],\n",
              " ['Get out!', 'Dégage\\u202f!'],\n",
              " ['Get out!', 'Disparais\\u202f!'],\n",
              " ['Get out!', 'Casse-toi.'],\n",
              " ['Get out!', 'Dégagez !'],\n",
              " ['Get out!', 'Sors !'],\n",
              " ['Get out!', 'Sortez !'],\n",
              " ['Get out!', 'Dégage !'],\n",
              " ['Get out!', 'Disparais !'],\n",
              " ['Get out!', 'Du balai !'],\n",
              " ['Get out!', 'Fiche le camp.'],\n",
              " ['Get out!', 'Oust !'],\n",
              " ['Get out!', \"Vers l'extérieur !\"],\n",
              " ['Get out!', 'Fichez le camp !'],\n",
              " ['Get out!', 'Sortez.'],\n",
              " ['Get out!', 'Décampez !'],\n",
              " ['Get out!', 'Décampe !'],\n",
              " ['Get out.', 'Sors.'],\n",
              " ['Get out.', 'Sortez\\u202f!'],\n",
              " ['Get out.', 'Dégage\\u202f!'],\n",
              " ['Get out.', 'Disparais\\u202f!'],\n",
              " ['Get out.', 'Casse-toi.'],\n",
              " ['Get out.', 'Dégagez !'],\n",
              " ['Get out.', 'Sors !'],\n",
              " ['Get out.', 'Sortez !'],\n",
              " ['Get out.', 'Disparais !'],\n",
              " ['Get out.', 'Fiche le camp.'],\n",
              " ['Get out.', 'Oust !'],\n",
              " ['Get out.', 'Sortez.'],\n",
              " ['Get out.', 'Bouge !'],\n",
              " ['Get out.', 'Décampez !'],\n",
              " ['Get out.', 'Décampe !'],\n",
              " ['Go away!', 'Dégage\\u202f!'],\n",
              " ['Go away!', 'Pars !'],\n",
              " ['Go away!', 'Allez-vous-en\\xa0!'],\n",
              " ['Go away!', 'Déguerpissez.'],\n",
              " ['Go away!', 'Cassez-vous.'],\n",
              " ['Go away!', 'Bouge !'],\n",
              " ['Go away!', 'Décampez !'],\n",
              " ['Go away!', 'Décampe !'],\n",
              " ['Go away.', 'Va te faire foutre !'],\n",
              " ['Go away.', 'Pars !'],\n",
              " ['Go away.', 'Dégage !'],\n",
              " ['Go away.', 'Fous le camp !'],\n",
              " ['Go away.', \"Pars d'ici.\"],\n",
              " ['Go away.', 'Va-t’en\\xa0!'],\n",
              " ['Go away.', 'Disparais !'],\n",
              " ['Go away.', 'Déguerpissez.'],\n",
              " ['Go away.', 'Cassez-vous.'],\n",
              " ['Go away.', 'Bouge !'],\n",
              " ['Go away.', 'Décampez !'],\n",
              " ['Go away.', 'Décampe !'],\n",
              " ['Go back.', 'Recule.'],\n",
              " ['Go home.', 'Rentrez à la maison.'],\n",
              " ['Go home.', 'Rentre à la maison.'],\n",
              " ['Go home.', 'Rentre chez toi.'],\n",
              " ['Go home.', 'Rentrez chez vous.'],\n",
              " ['Go slow.', 'Va doucement !'],\n",
              " ['Go slow.', 'Allez doucement !'],\n",
              " ['Goodbye!', 'Adieu !'],\n",
              " ['Goodbye!', 'À la revoyure.'],\n",
              " ['Goodbye!', 'Ciao.'],\n",
              " ['Goodbye.', 'Au revoir.'],\n",
              " ['Goodbye.', 'Ciao.'],\n",
              " ['Hang on!', 'Attends un peu !'],\n",
              " ['Hang on!', 'Attendez un peu !'],\n",
              " ['Hang on!', 'Attendez.'],\n",
              " ['Hang on.', 'Tiens bon !'],\n",
              " ['Hang on.', 'Tenez bon !'],\n",
              " ['Hang on.', 'Attendez.'],\n",
              " ['He left.', 'Il est parti.'],\n",
              " ['He runs.', 'Il court.'],\n",
              " ['Help me!', 'Aide-moi !'],\n",
              " ['Help me.', \"À l'aide\\u202f!\"],\n",
              " ['Help me.', 'Aide-moi.'],\n",
              " ['Help me.', 'Aidez-moi.'],\n",
              " ['Help me.', 'Aide-moi !'],\n",
              " ['Help us.', 'Aidez-nous !'],\n",
              " ['Help us.', 'Aide-nous !'],\n",
              " ['Hold it!', 'Ne bouge plus !'],\n",
              " ['Hold it!', 'Ne bougez plus !'],\n",
              " ['Hold it!', 'Restez où vous êtes !'],\n",
              " ['Hold it!', 'Attendez.'],\n",
              " ['Hold on.', 'Ne quittez pas.'],\n",
              " ['Hold on.', 'Ne quitte pas !'],\n",
              " ['How sad!', \"Comme c'est triste.\"],\n",
              " ['Hug Tom.', 'Fais un câlin à Tom.'],\n",
              " ['I agree.', 'Je suis du même avis.'],\n",
              " ['I cried.', \"J'ai pleuré.\"],\n",
              " ['I dozed.', 'Je me suis assoupi.'],\n",
              " ['I dozed.', 'Je me suis assoupie.'],\n",
              " ['I drive.', 'Je conduis.'],\n",
              " ['I drove.', 'Je conduisis.'],\n",
              " ['I fired.', \"J'ai tiré.\"],\n",
              " ['I froze.', 'Je me suis figé.'],\n",
              " ['I froze.', 'Je me suis figée.'],\n",
              " ['I smoke.', 'Je fume.'],\n",
              " ['I snore.', 'Je ronfle.'],\n",
              " ['I stink.', 'Je pue.'],\n",
              " ['I stood.', 'Je me suis tenu debout.'],\n",
              " ['I stood.', 'Je me suis tenue debout.'],\n",
              " ['I swore.', 'J’ai promis.'],\n",
              " ['I swore.', 'J’ai juré.'],\n",
              " ['I tried.', \"J'essayai.\"],\n",
              " ['I tried.', \"J'ai essayé.\"],\n",
              " ['I tried.', \"J'ai tenté.\"],\n",
              " ['I waved.', 'J’ai fait signe.'],\n",
              " [\"I'll go.\", \"J'irai.\"],\n",
              " [\"I'm Tom.\", 'Je suis Tom.'],\n",
              " [\"I'm fat.\", 'Je suis gras.'],\n",
              " [\"I'm fat.\", 'Je suis gros.'],\n",
              " [\"I'm fit.\", 'Je suis en forme.'],\n",
              " [\"I'm hit!\", 'Je suis touché !'],\n",
              " [\"I'm hit!\", 'Je suis touchée !'],\n",
              " [\"I'm ill.\", 'Je suis malade.'],\n",
              " [\"I'm sad.\", 'Je suis triste.'],\n",
              " [\"I'm sad.\", \"J'ai un coup de cafard.\"],\n",
              " [\"I'm sad.\", 'Je suis malheureux.'],\n",
              " [\"I'm shy.\", 'Je suis timide.'],\n",
              " [\"I'm wet.\", 'Je suis mouillé.'],\n",
              " [\"I'm wet.\", 'Je suis mouillée.'],\n",
              " [\"It's me!\", \"C'est bibi\\u202f!\"],\n",
              " ['Join us.', 'Joignez-vous.'],\n",
              " ['Join us.', 'Joignez-vous à nous.'],\n",
              " ['Keep it.', 'Garde-le !'],\n",
              " ['Keep it.', 'Gardez-le !'],\n",
              " ['Kick it.', 'Donne-lui un coup de pied.'],\n",
              " ['Kick it.', 'Donnez-lui un coup de pied.'],\n",
              " ['Kill it.', 'Tuez-le.'],\n",
              " ['Kill it.', 'Tue-le.'],\n",
              " ['Kill it.', 'Tue-la.'],\n",
              " ['Kill it.', 'Tuez-la.'],\n",
              " ['Kiss me.', 'Embrasse-moi.'],\n",
              " ['Kiss me.', 'Embrassez-moi.'],\n",
              " ['Lie low.', 'À terre !'],\n",
              " ['Lie low.', 'Au sol !'],\n",
              " ['Lock it.', 'Verrouillez-le.'],\n",
              " ['Lock it.', 'Verrouille-le.'],\n",
              " ['Lock it.', 'Verrouillez-la.'],\n",
              " ['Lock it.', 'Verrouille-la.'],\n",
              " ['Me, too.', 'Moi aussi.'],\n",
              " ['Me, too.', 'À moi aussi.'],\n",
              " ['Move on.', 'Passez à autre chose.'],\n",
              " ['Move on.', 'Passe à autre chose.'],\n",
              " ['Open it.', 'Ouvrez-le.'],\n",
              " ['Open it.', 'Ouvre-le.'],\n",
              " ['Open it.', 'Ouvre-la.'],\n",
              " ['Open it.', 'Ouvrez-la.'],\n",
              " ['Open up.', 'Ouvre-moi\\u202f!'],\n",
              " ['Open up.', 'Ouvre.'],\n",
              " ['Pair up.', 'Faites équipe.'],\n",
              " ['Perfect!', 'Parfait\\u202f!'],\n",
              " ['Pull it.', 'Tirez dessus.'],\n",
              " ['Pull it.', 'Tire dessus.'],\n",
              " ['Push it.', 'Appuie dessus.'],\n",
              " ['Push it.', 'Poussez-le.'],\n",
              " ['Push it.', 'Pousse-le.'],\n",
              " ['Push it.', 'Poussez-la.'],\n",
              " ['Push it.', 'Pousse-la.'],\n",
              " ['See you!', 'À plus tard\\xa0!'],\n",
              " ['See you!', 'À bientôt !'],\n",
              " ['See you!', 'À la prochaine !'],\n",
              " ['See you!', 'Ciao.'],\n",
              " ['See you.', 'À plus.'],\n",
              " ['See you.', 'Ciao.'],\n",
              " ['Show me.', 'Montre-moi !'],\n",
              " ['Show me.', 'Montrez-moi !'],\n",
              " ['Shut up!', 'Taisez-vous\\u202f!'],\n",
              " ['Shut up!', 'Ferme-la\\u202f!'],\n",
              " ['Shut up!', 'Tais-toi !'],\n",
              " ['Shut up!', 'Ferme-la !'],\n",
              " ['Shut up!', 'La ferme !'],\n",
              " ['Shut up!', 'Bouclez-la !'],\n",
              " ['Shut up!', 'Fermez-la\\xa0!'],\n",
              " ['Shut up!', 'Ferme-la\\xa0!'],\n",
              " ['Sign up.', 'Inscrivez-vous.'],\n",
              " ['Sign up.', 'Inscris-toi.'],\n",
              " ['Skip it.', 'Laisse tomber.'],\n",
              " ['Skip it.', 'Pas grave.'],\n",
              " ['So long.', 'À plus tard\\xa0!'],\n",
              " ['Take it.', 'Prends-le\\u202f!'],\n",
              " ['Take it.', 'Prenez-le\\u202f!'],\n",
              " ['Take it.', 'Prends-le !'],\n",
              " ['Take it.', 'Prenez-le !'],\n",
              " ['Take it.', 'Prenez-le.'],\n",
              " ['Take it.', 'Prends-le.'],\n",
              " ['Tell me.', 'Dis-moi !'],\n",
              " ['Tell me.', 'Dites-moi !'],\n",
              " ['Tom won.', 'Tom a gagné.'],\n",
              " ['Wake up!', 'Réveille-toi\\u202f!'],\n",
              " ['Wake up!', 'Réveille-toi !'],\n",
              " ['Wake up!', 'Réveillez-vous !'],\n",
              " ['Wake up.', 'Réveille-toi !'],\n",
              " ['Wake up.', 'Réveillez-vous !'],\n",
              " ['Wash up.', 'Lave-toi !'],\n",
              " ['Wash up.', 'Lavez-vous !'],\n",
              " ['We care.', 'Nous nous en soucions.'],\n",
              " ['We know.', 'Nous savons.'],\n",
              " ['We know.', 'On sait.'],\n",
              " ['We lost.', 'Nous perdîmes.'],\n",
              " ['We lost.', 'Nous avons perdu.'],\n",
              " ['We lost.', 'Nous fûmes battus.'],\n",
              " ['We lost.', 'Nous fûmes battues.'],\n",
              " ['We lost.', 'Nous fûmes défaits.'],\n",
              " ['We lost.', 'Nous fûmes défaites.'],\n",
              " ['We lost.', 'Nous avons été défaits.'],\n",
              " ['We lost.', 'Nous avons été défaites.'],\n",
              " ['We lost.', 'Nous avons été battus.'],\n",
              " ['We lost.', 'Nous avons été battues.'],\n",
              " ['Welcome.', 'Bienvenue\\u202f!'],\n",
              " ['Welcome.', 'Soyez le bienvenu !'],\n",
              " ['Who ran?', 'Qui courait\\xa0?'],\n",
              " ['Who won?', 'Qui a gagné ?'],\n",
              " ['Who won?', \"Qui l'a emporté ?\"],\n",
              " ['You run.', 'Tu cours.'],\n",
              " ['You win.', 'Vous avez gagné.'],\n",
              " ['Aim high.', 'Visez haut.'],\n",
              " ['Aim high.', 'Vise haut.'],\n",
              " ['Am I fat?', 'Suis-je gros ?'],\n",
              " ['Am I fat?', 'Suis-je grosse ?'],\n",
              " ['Ask them.', 'Demande-leur.'],\n",
              " ['Ask them.', 'Demandez-leur.'],\n",
              " ['Back off!', 'Recule\\u2009!'],\n",
              " ['Back off!', 'Reculez.'],\n",
              " ['Back off!', 'Cassez-vous.'],\n",
              " ['Back off.', 'Recule\\u2009!'],\n",
              " ['Back off.', 'Reculez.'],\n",
              " ['Back off.', 'Retire-toi\\u2009!'],\n",
              " ['Back off.', 'Retirez-vous.'],\n",
              " ['Back off.', 'Cassez-vous.'],\n",
              " ['Be a man.', 'Sois un homme !'],\n",
              " ['Be a man.', 'Soyez un homme !'],\n",
              " ['Be brave.', 'Soyez courageux !'],\n",
              " ['Be brief.', 'Soyez bref.'],\n",
              " ['Be brief.', 'Sois bref.'],\n",
              " ['Be brief.', 'Sois brève.'],\n",
              " ['Be brief.', 'Soyez brève.'],\n",
              " ['Be brief.', 'Soyez brefs.'],\n",
              " ['Be brief.', 'Soyez brèves.'],\n",
              " ['Be still.', 'Sois calme !'],\n",
              " ['Be still.', 'Soyez calme !'],\n",
              " ['Be still.', 'Soyez calmes !'],\n",
              " ['Buzz off.', 'Casse-toi.'],\n",
              " ['Call Tom.', 'Appelle Tom.'],\n",
              " ['Call Tom.', 'Appelez Tom.'],\n",
              " ['Cheer up!', 'Courage\\u202f!'],\n",
              " ['Cheer up.', 'Courage\\u202f!'],\n",
              " ['Cool off!', 'Détends-toi\\u202f!'],\n",
              " ['Cover me.', 'Couvre-moi.'],\n",
              " ['Cuff him.', 'Menottez-le.'],\n",
              " ['Drive on.', 'Avance !'],\n",
              " ['Drive on.', 'Avancez !'],\n",
              " ['Drive on.', 'Continue à rouler !'],\n",
              " ['Drive on.', 'Continuez à rouler !'],\n",
              " ['Find Tom.', 'Trouve Tom.'],\n",
              " ['Find Tom.', 'Trouvez Tom.'],\n",
              " ['Fix this.', 'Réparez ceci.'],\n",
              " ['Fix this.', 'Répare ça.'],\n",
              " ['Get away!', 'Dégage\\u202f!'],\n",
              " ['Get away!', 'Casse-toi.'],\n",
              " ['Get away!', 'Pars !'],\n",
              " ['Get away!', 'Dégage !'],\n",
              " ['Get away!', 'Fous le camp !'],\n",
              " ['Get away!', \"Pars d'ici.\"],\n",
              " ['Get away!', 'Va-t’en\\xa0!'],\n",
              " ['Get away!', 'Écarte-toi !'],\n",
              " ['Get away!', 'Disparais !'],\n",
              " ['Get away!', 'Allez-vous-en\\xa0!'],\n",
              " ['Get away!', 'Fiche le camp.'],\n",
              " ['Get away!', 'Tire-toi de là.'],\n",
              " ['Get away!', 'Dégage.'],\n",
              " ['Get away!', \"Va-t'en !\"],\n",
              " ['Get away!', \"Criss ton camp d'icit !\"],\n",
              " ['Get away!', 'Fichez le camp.'],\n",
              " ['Get away!', 'Déguerpissez.'],\n",
              " ['Get away!', 'Cassez-vous.'],\n",
              " ['Get away!', 'Barrez-vous.'],\n",
              " ['Get away!', 'Barre-toi.'],\n",
              " ['Get away!', 'Va-t’en !'],\n",
              " ['Get away!', 'Bouge !'],\n",
              " ['Get away!', 'Décampez !'],\n",
              " ['Get away!', 'Décampe !'],\n",
              " ['Get away!', 'Tu dis n’importe quoi\\xa0!'],\n",
              " ['Get away.', 'Pars.'],\n",
              " ['Get away.', 'Partez.'],\n",
              " ['Get down!', 'Lâche-toi !'],\n",
              " ['Get down!', 'À terre !'],\n",
              " ['Get down!', 'Au sol !'],\n",
              " ['Get down!', 'Descends.'],\n",
              " ['Get down.', 'Descends !'],\n",
              " ['Get down.', 'Descendez !'],\n",
              " ['Get down.', 'Lâche-toi !'],\n",
              " ['Get down.', 'Lâchez-vous !'],\n",
              " ['Get down.', 'À terre !'],\n",
              " ['Get down.', 'Au sol !'],\n",
              " ['Get down.', 'Descends.'],\n",
              " ['Get lost!', \"Va voir ailleurs si j'y suis\\u202f!\"],\n",
              " ['Get lost!', 'Dégage\\u202f!'],\n",
              " ['Get lost!', 'Va au diable !'],\n",
              " ['Get lost!', 'Déguerpissez.'],\n",
              " ['Get lost!', 'Cassez-vous.'],\n",
              " ['Get lost!', 'Bouge !'],\n",
              " ['Get lost!', 'Décampez !'],\n",
              " ['Get lost!', 'Décampe !'],\n",
              " ['Get lost!', 'Va te faire foutre\\xa0!'],\n",
              " ['Get lost!', 'Va te faire voir\\xa0!'],\n",
              " ['Get lost.', 'Fiche le camp.'],\n",
              " ['Get lost.', 'Fichez le camp.'],\n",
              " ['Get lost.', 'Déguerpissez.'],\n",
              " ['Get lost.', 'Cassez-vous.'],\n",
              " ['Get lost.', 'Bouge !'],\n",
              " ['Get lost.', 'Décampez !'],\n",
              " ['Get lost.', 'Décampe !'],\n",
              " ['Get real!', 'Sois réaliste !'],\n",
              " ['Get real!', 'Tu délires\\xa0!'],\n",
              " ['Go ahead!', 'Allez\\u202f!'],\n",
              " ['Go ahead!', 'Vas-y.'],\n",
              " ['Go ahead!', 'En avant\\u202f!'],\n",
              " ['Go ahead!', 'Va !'],\n",
              " ['Go ahead!', 'Poursuis !'],\n",
              " ['Go ahead!', 'Poursuivez !'],\n",
              " ['Go ahead!', 'Passe devant !'],\n",
              " ['Go ahead!', 'Vas-y !'],\n",
              " ['Go ahead!', 'Allez-y !'],\n",
              " ['Go ahead!', 'Continuez !'],\n",
              " ['Go ahead!', 'Continue !'],\n",
              " ['Go ahead!', 'Allez !'],\n",
              " ['Go ahead!', 'Avance !'],\n",
              " ['Go ahead.', 'Allez\\u202f!'],\n",
              " ['Go ahead.', 'Vas-y.'],\n",
              " ['Go ahead.', 'Va !'],\n",
              " ['Go ahead.', 'Poursuis !'],\n",
              " ['Go ahead.', 'Poursuivez !'],\n",
              " ['Go ahead.', 'Passe devant !'],\n",
              " ['Go ahead.', 'Vas-y !'],\n",
              " ['Go ahead.', 'Allez-y !'],\n",
              " ['Go ahead.', 'Continuez !'],\n",
              " ['Go ahead.', 'Continue !'],\n",
              " ['Go ahead.', 'Allez !'],\n",
              " ['Go ahead.', 'Avance !'],\n",
              " ['Go ahead.', 'En route !'],\n",
              " ['Good job!', 'Bien joué\\u202f!'],\n",
              " ['Good job!', 'Bon boulot\\u202f!'],\n",
              " ['Good job!', 'Beau travail\\u202f!'],\n",
              " ['Good job!', 'Bravo !'],\n",
              " ['Grab Tom.', 'Attrape Tom.'],\n",
              " ['Grab Tom.', 'Attrapez Tom.'],\n",
              " ['Grab him.', 'Attrape-le.'],\n",
              " ['Grab him.', 'Attrapez-le.'],\n",
              " ['Grab him.', 'Mettez-lui la main dessus !'],\n",
              " ['Have fun.', 'Amuse-toi bien !'],\n",
              " ['Have fun.', 'Amusez-vous bien !'],\n",
              " ['Have fun.', 'Amusez-vous bien.'],\n",
              " ['He spoke.', 'Il a parlé.'],\n",
              " ['He spoke.', 'Il a pris la parole.'],\n",
              " ['He spoke.', \"Il s'est exprimé.\"],\n",
              " ['He tries.', 'Il essaye.'],\n",
              " [\"He's wet.\", 'Il est mouillé.'],\n",
              " ['Help Tom.', 'Aide Tom.'],\n",
              " ['Help Tom.', 'Aidez Tom.'],\n",
              " ['Help Tom.', 'Aidez Tom !'],\n",
              " ['Hi, guys.', 'Salut, les mecs !'],\n",
              " ['How cute!', \"Comme c'est mignon\\u202f!\"],\n",
              " ['How cute!', 'Trop mignon !'],\n",
              " ['How cute!', 'Trop mignonne !'],\n",
              " ['How deep?', 'Quelle profondeur\\u202f?'],\n",
              " ['How nice!', 'Comme elle est belle\\u202f!'],\n",
              " ['How nice!', \"Comme c'est chouette !\"],\n",
              " ['How nice!', \"Comme c'est gentil !\"],\n",
              " ['How nice!', \"C'est du joli !\"],\n",
              " ['How nice!', \"Comme c'est agréable !\"],\n",
              " ['How rude!', 'Quelle grossièreté !'],\n",
              " ['How wise!', 'Quelle sagesse !'],\n",
              " ['Hurry up.', 'Dépêche-toi.'],\n",
              " ['Hurry up.', 'Grouille\\u202f!'],\n",
              " ['Hurry up.', 'Pressez-vous !'],\n",
              " ['Hurry up.', 'Fiça !'],\n",
              " ['Hurry up.', 'Magne-toi !'],\n",
              " ['Hurry up.', 'Magnez-vous !'],\n",
              " ['I am Tom.', 'Je suis Tom.'],\n",
              " ['I cursed.', \"J'ai juré.\"],\n",
              " ['I did OK.', \"Je m'en suis bien sorti.\"],\n",
              " ['I did OK.', \"Je m'en suis bien sortie.\"],\n",
              " ['I did it.', \"Je l'ai fait.\"],\n",
              " ['I did it.', \"C'est moi qui l'ai fait.\"],\n",
              " ['I failed.', \"J'ai échoué.\"],\n",
              " ['I forgot.', \"J'ai oublié.\"],\n",
              " ['I get it.', \"J'ai compris.\"],\n",
              " ['I goofed.', \"J'ai fait une gaffe.\"],\n",
              " ['I got it.', \"J'ai compris.\"],\n",
              " ['I got it.', \"J'ai capté.\"],\n",
              " ['I helped.', \"J'ai aidé.\"],\n",
              " ['I jumped.', \"J'ai sauté.\"],\n",
              " ['I looked.', 'J’ai regardé.'],\n",
              " ['I moaned.', 'J’ai râlé.'],\n",
              " ['I nodded.', 'J’ai fait signe de la tête.'],\n",
              " ['I obeyed.', 'J’ai obéi.'],\n",
              " ['I phoned.', 'Je téléphonai.'],\n",
              " ['I phoned.', \"J'ai téléphoné.\"],\n",
              " ['I refuse.', 'Je refuse.'],\n",
              " ['I refuse.', 'Je le refuse.'],\n",
              " ['I rested.', 'Je me suis reposé.'],\n",
              " ['I rested.', 'Je me suis reposée.'],\n",
              " ['I saw it.', \"Je l'ai vu.\"],\n",
              " ['I saw it.', 'Je l’ai vu.'],\n",
              " ['I sighed.', 'J’ai soupiré.'],\n",
              " ['I smiled.', \"J'ai souri.\"],\n",
              " ['I stayed.', 'Je suis resté.'],\n",
              " ['I stayed.', 'Je suis restée.'],\n",
              " ['I talked.', 'J’ai parlé.'],\n",
              " ['I use it.', \"Je l'utilise.\"],\n",
              " ['I use it.', \"J'en fais usage.\"],\n",
              " ['I use it.', \"Je m'en sers.\"],\n",
              " [\"I'll pay.\", 'Je paierai.'],\n",
              " [\"I'll pay.\", 'Je paie.'],\n",
              " [\"I'll try.\", 'Je vais essayer.'],\n",
              " [\"I'll try.\", \"J'essaierai.\"],\n",
              " [\"I'm back.\", 'Je suis revenu.'],\n",
              " [\"I'm back.\", 'Me revoilà.'],\n",
              " [\"I'm bald.\", 'Je suis chauve.'],\n",
              " [\"I'm busy.\", 'Je suis occupé.'],\n",
              " [\"I'm busy.\", 'Je suis occupée.'],\n",
              " [\"I'm calm.\", 'Je suis calme.'],\n",
              " [\"I'm cold.\", \"J'ai froid.\"],\n",
              " [\"I'm cool.\", 'Je suis détendu.'],\n",
              " [\"I'm cool.\", 'Je suis détendue.'],\n",
              " [\"I'm deaf.\", 'Je suis sourd.'],\n",
              " [\"I'm deaf.\", 'Je suis sourde.'],\n",
              " [\"I'm done.\", \"J'en ai fini.\"],\n",
              " [\"I'm fair.\", 'Je suis juste.'],\n",
              " [\"I'm fair.\", \"J'ai la peau claire.\"],\n",
              " [\"I'm fair.\", \"J'ai le teint clair.\"],\n",
              " [\"I'm fast.\", 'Je suis rapide.'],\n",
              " [\"I'm fine.\", 'Tout va bien.'],\n",
              " [\"I'm fine.\", 'Je vais bien.'],\n",
              " [\"I'm fine.\", 'Ça va.'],\n",
              " [\"I'm free!\", 'Je suis libre !'],\n",
              " [\"I'm free.\", 'Je suis libre.'],\n",
              " [\"I'm free.\", 'Je suis disponible.'],\n",
              " [\"I'm full.\", 'Je suis repu\\u202f!'],\n",
              " [\"I'm full.\", 'Je suis rassasié\\u202f!'],\n",
              " [\"I'm game.\", \"J'en suis.\"],\n",
              " [\"I'm game.\", 'Je suis de la partie.'],\n",
              " [\"I'm glad.\", 'Je suis content.'],\n",
              " [\"I'm home.\", 'Je suis chez moi.'],\n",
              " [\"I'm late.\", 'Je suis en retard.'],\n",
              " [\"I'm lazy.\", 'Je suis paresseux.'],\n",
              " [\"I'm lazy.\", 'Je suis fainéant.'],\n",
              " [\"I'm lazy.\", 'Je suis paresseuse.'],\n",
              " [\"I'm lazy.\", 'Je suis fainéante.'],\n",
              " [\"I'm lost.\", 'Je suis paumé.'],\n",
              " [\"I'm lost.\", 'Je suis perdue.'],\n",
              " [\"I'm okay.\", 'Je vais bien.'],\n",
              " [\"I'm okay.\", 'Je me porte bien.'],\n",
              " [\"I'm rich.\", 'Je suis riche.'],\n",
              " [\"I'm safe.\", 'Je suis en sécurité.'],\n",
              " [\"I'm sick.\", 'Je suis malade.'],\n",
              " [\"I'm sure.\", \"J'en suis certain.\"],\n",
              " [\"I'm sure.\", 'Je suis certain.'],\n",
              " [\"I'm sure.\", \"J'en suis sûr.\"],\n",
              " [\"I'm sure.\", \"J'en suis sûre.\"],\n",
              " [\"I'm tall.\", 'Je suis grande.'],\n",
              " [\"I'm thin.\", 'Je suis mince.'],\n",
              " [\"I'm tidy.\", 'Je suis ordonné.'],\n",
              " [\"I'm tidy.\", 'Je suis ordonnée.'],\n",
              " [\"I'm ugly.\", 'Je suis laid.'],\n",
              " [\"I'm ugly.\", 'Je suis laide.'],\n",
              " [\"I'm ugly.\", 'Je suis moche.'],\n",
              " [\"I'm weak.\", 'Je suis faible.'],\n",
              " [\"I'm well.\", 'Je vais bien.'],\n",
              " [\"I'm well.\", 'Je me porte bien.'],\n",
              " [\"I've won.\", \"J'ai gagné.\"],\n",
              " [\"I've won.\", \"Je l'ai emporté.\"],\n",
              " ['It helps.', 'Ça aide.'],\n",
              " ['It hurts.', 'Ça fait mal.'],\n",
              " ['It works.', 'Elle marche.'],\n",
              " ['It works.', 'Ça fonctionne.'],\n",
              " [\"It's Tom.\", \"C'est Tom.\"],\n",
              " [\"It's fun.\", \"C'est marrant.\"],\n",
              " [\"It's fun.\", \"C'est rigolo.\"],\n",
              " [\"It's his.\", \"C'est le sien.\"],\n",
              " [\"It's his.\", \"C'est la sienne.\"],\n",
              " [\"It's new.\", \"C'est nouveau.\"],\n",
              " [\"It's new.\", \"C'est neuf.\"],\n",
              " [\"It's odd.\", \"C'est bizarre.\"],\n",
              " [\"It's red.\", 'Il est rouge.'],\n",
              " [\"It's sad.\", 'C’est triste.'],\n",
              " ['Keep out!', \"Défense d'entrer.\"],\n",
              " ['Keep out.', \"N'entrez pas.\"],\n",
              " ['Kill Tom.', 'Tuez Tom.'],\n",
              " ['Kill Tom.', 'Tue Tom.'],\n",
              " ['Kiss Tom.', 'Embrasse Tom.'],\n",
              " ['Leave it.', 'Laisse tomber !'],\n",
              " ['Leave it.', 'Laissez tomber !'],\n",
              " ['Leave it.', 'Laisse !'],\n",
              " ['Leave it.', 'Laissez ça.'],\n",
              " ['Leave it.', 'Laisse ça.'],\n",
              " ['Leave me.', 'Laissez-moi !'],\n",
              " ['Leave us.', 'Laisse-nous !'],\n",
              " ['Leave us.', 'Laissez-nous !'],\n",
              " [\"Let's go!\", 'Allons-y !'],\n",
              " [\"Let's go!\", 'Allons !'],\n",
              " [\"Let's go!\", 'En route !'],\n",
              " [\"Let's go.\", 'Allons-y !'],\n",
              " [\"Let's go.\", 'En route !'],\n",
              " ['Look out!', 'Attention !'],\n",
              " ['Look out!', 'Faites attention\\u202f!'],\n",
              " ['Look out!', 'Fais attention\\u202f!'],\n",
              " ['Look out!', 'Soyez prudente !'],\n",
              " ['Look out!', 'Fais gaffe !'],\n",
              " ['Look out!', 'Faites gaffe !'],\n",
              " ['Look out!', 'Fais attention !'],\n",
              " ['Look out!', 'Regarde donc !'],\n",
              " ['Look out!', 'Faites attention.'],\n",
              " ['Look out!', 'Fais attention.'],\n",
              " ['Marry me.', 'Épouse-moi !'],\n",
              " ['Marry me.', 'Épousez-moi !'],\n",
              " ['May I go?', 'Puis-je partir ?'],\n",
              " ['May I go?', 'Puis-je y aller ?'],\n",
              " ['May I go?', \"Puis-je m'y rendre ?\"],\n",
              " ['Nice try.', 'Belle tentative.'],\n",
              " ['Now stop!', 'Arrêtez-vous maintenant\\xa0!'],\n",
              " ['Now stop!', 'Arrête-toi maintenant\\xa0!'],\n",
              " ['Prove it.', 'Prouvez-le.'],\n",
              " ['Prove it.', 'Prouve-le.'],\n",
              " ['Run away.', 'Fuyez.'],\n",
              " ['Run away.', 'Fuis.'],\n",
              " ['Run away.', 'Enfuyez-vous.'],\n",
              " ['Run away.', 'Enfuis-toi.'],\n",
              " ['Save Tom.', 'Sauve Tom.'],\n",
              " ['Save Tom.', 'Sauvez Tom.'],\n",
              " ['Say what?', 'De quoi\\u202f?'],\n",
              " ['She came.', 'Elle est venue.'],\n",
              " ['She died.', 'Elle est morte.'],\n",
              " ['She left.', 'Elle est partie.'],\n",
              " ['She runs.', 'Elle court.'],\n",
              " ['Sit down!', 'Assieds-toi !'],\n",
              " ['Sit down!', 'Asseyez-vous !'],\n",
              " ['Sit down!', 'Asseyez-vous.'],\n",
              " ['Sit down.', 'Assieds-toi.'],\n",
              " ['Sit down.', 'Asseyez-vous.'],\n",
              " ['Sit here.', 'Assieds-toi ici.'],\n",
              " ['Sit here.', 'Asseyez-vous ici.'],\n",
              " ['Speak up!', 'Parle plus fort\\u202f!'],\n",
              " ['Speak up!', 'Parlez plus fort\\u202f!'],\n",
              " ['Speak up!', 'Parle plus fort !'],\n",
              " ['Speed up.', 'Accélère.'],\n",
              " ['Speed up.', 'Accélérez.'],\n",
              " ['Stand up.', 'Lève-toi.'],\n",
              " ['Stop Tom.', 'Arrête Tom.'],\n",
              " ['Stop Tom.', 'Stoppez Tom.'],\n",
              " ['Take Tom.', 'Prends Tom.'],\n",
              " ['Taste it.', 'Goûte-le.'],\n",
              " ['Taste it.', 'Goûte-la.'],\n",
              " ['Taste it.', 'Goûtez-le.'],\n",
              " ['Taste it.', 'Goûtez-la.'],\n",
              " ['Tell Tom.', 'Dis-le à Tom.'],\n",
              " ['Tell Tom.', 'Informez-en Tom.'],\n",
              " ['Terrific!', 'Fantastique\\u202f!'],\n",
              " ['Terrific!', 'Génial\\u202f!'],\n",
              " ['Terrific!', 'Super\\u202f!'],\n",
              " ['Terrific!', 'Au poil\\u202f!'],\n",
              " ['Terrific!', 'Impeccable\\u202f!'],\n",
              " ['Terrific!', 'Nickel\\u202f!'],\n",
              " ['Terrific!', 'Excellent\\u202f!'],\n",
              " ['Terrific!', 'Magnifique\\u202f!'],\n",
              " ['Terrific!', 'Nickel chrome\\u202f!'],\n",
              " ['Terrific!', 'Bien.'],\n",
              " ['Terrific!', 'Formidable !'],\n",
              " ['Terrific!', \"C'est génial !\"],\n",
              " ['Terrific!', 'À la bonne heure !'],\n",
              " ['Terrific!', \"C'est super.\"],\n",
              " ['Terrific!', 'Super !'],\n",
              " ['Terrific!', 'Génial !'],\n",
              " ['Terrific!', 'Sensass !'],\n",
              " ['They won.', 'Ils gagnèrent.'],\n",
              " ['They won.', 'Elles gagnèrent.'],\n",
              " ['They won.', 'Ils ont gagné.'],\n",
              " ['They won.', 'Elles ont gagné.'],\n",
              " ['Tom came.', 'Tom est venu.'],\n",
              " ['Tom died.', 'Tom est mort.'],\n",
              " ['Tom knew.', 'Tom savait.'],\n",
              " ['Tom left.', 'Tom est parti.'],\n",
              " ['Tom left.', 'Tom partit.'],\n",
              " ['Tom lied.', 'Tom a menti.'],\n",
              " ['Tom lies.', 'Tom ment.'],\n",
              " ['Tom lost.', 'Tom a perdu.'],\n",
              " ['Tom paid.', 'Tom a payé.'],\n",
              " ['Tom paid.', 'Tom payait.'],\n",
              " ['Tom went.', 'Tom est parti.'],\n",
              " [\"Tom's up.\", 'Tom est debout.'],\n",
              " ['Too late.', 'Trop tard.'],\n",
              " ['Touch it.', 'Touchez-le.'],\n",
              " ['Touch it.', 'Touchez-la.'],\n",
              " ['Touch it.', 'Touche-le.'],\n",
              " ['Touch it.', 'Touche-la.'],\n",
              " ['Trust me!', 'Fais-moi confiance\\u202f!'],\n",
              " ['Trust me.', 'Faites-moi confiance.'],\n",
              " ['Trust me.', 'Fais-moi confiance.'],\n",
              " ['Trust me.', 'Ayez confiance en moi.'],\n",
              " ['Trust me.', 'Aie confiance en moi.'],\n",
              " ['Try some.', 'Essaies-en !'],\n",
              " ['Try some.', 'Essayez-en !'],\n",
              " ['Try some.', 'Essaie.'],\n",
              " ['Try this.', 'Essaie ceci !'],\n",
              " ['Try this.', 'Essayez ceci !'],\n",
              " ['Try this.', 'Essaye ceci.'],\n",
              " ['Use this.', 'Utilise ceci.'],\n",
              " ['Use this.', 'Utilisez ceci.'],\n",
              " ['Use this.', 'Emploie ceci !'],\n",
              " ['Use this.', 'Employez ceci !'],\n",
              " ['Warn Tom.', 'Avertis Tom.'],\n",
              " ['Warn Tom.', 'Préviens Tom.'],\n",
              " ['Watch me.', 'Regarde-moi !'],\n",
              " ['Watch me.', 'Regardez-moi !'],\n",
              " ['Watch us.', 'Regardez-nous !'],\n",
              " ['Watch us.', 'Regarde-nous !'],\n",
              " ['We agree.', \"Nous sommes d'accord.\"],\n",
              " [\"We'll go.\", 'Nous irons.'],\n",
              " [\"We're OK.\", 'Nous allons bien.'],\n",
              " ['What for?', 'Pour quoi faire\\u202f?'],\n",
              " ['What for?', 'À quoi bon ?'],\n",
              " ['What fun!', \"Qu'est-ce qu'on s'est marrés !\"],\n",
              " ['What fun!', \"Qu'est-ce qu'on s'est marrées !\"],\n",
              " ['Who am I?', 'Qui suis-je ?'],\n",
              " ['Who came?', 'Qui est venu ?'],\n",
              " ['Who died?', 'Qui est mort ?'],\n",
              " ['Who fell?', 'Qui est tombé\\xa0?'],\n",
              " ['Who lost?', 'Qui a perdu ?'],\n",
              " ['Who paid?', 'Qui a payé\\xa0?'],\n",
              " ['Who quit?', 'Qui démissionne\\xa0?'],\n",
              " [\"Who's he?\", 'Qui est-il\\u202f?'],\n",
              " ['Write me.', 'Écris-moi !'],\n",
              " ['Write me.', 'Écrivez-moi !'],\n",
              " ['You lost.', 'Tu as perdu.'],\n",
              " ['You lost.', 'Vous avez perdu.'],\n",
              " ['You lost.', 'T’as perdu.'],\n",
              " ['After you.', 'Je vous en prie.'],\n",
              " ['After you.', 'Après vous.'],\n",
              " ['Aim. Fire!', 'En joue ! Feu !'],\n",
              " ['Am I late?', 'Suis-je en retard ?'],\n",
              " ['Answer me.', 'Répondez-moi.'],\n",
              " ['Be honest.', 'Sois honnête.'],\n",
              " ['Be honest.', 'Soyez honnêtes.'],\n",
              " ['Be honest.', 'Soyez honnête.'],\n",
              " ['Be seated.', 'Assieds-toi !'],\n",
              " ['Be seated.', 'Asseyez-vous !'],\n",
              " ['Be seated.', 'Asseyez-vous.'],\n",
              " ['Be strong.', 'Sois puissante\\xa0!'],\n",
              " ['Birds fly.', 'Les oiseaux volent.'],\n",
              " ['Bless you.', 'À tes souhaits\\u202f!'],\n",
              " ['Call home!', 'Appelle à la maison !'],\n",
              " ['Calm down!', 'Calmez-vous !'],\n",
              " ['Calm down!', 'Du calme.'],\n",
              " ['Calm down!', 'Tranquille.'],\n",
              " ['Calm down.', 'Calme-toi.'],\n",
              " ['Calm down.', 'Du calme.'],\n",
              " ['Calm down.', 'Tranquille.'],\n",
              " ['Can we go?', 'Pouvons-nous partir ?'],\n",
              " ['Can we go?', 'Pouvons-nous nous en aller ?'],\n",
              " ['Can we go?', 'Pouvons-nous y aller ?'],\n",
              " ['Catch Tom.', 'Attrape Tom.'],\n",
              " ['Catch Tom.', 'Attrapez Tom.'],\n",
              " ['Catch him.', 'Attrape-le\\u202f!'],\n",
              " ['Catch him.', 'Rattrape-le.'],\n",
              " ['Chill out.', 'Calme-toi.'],\n",
              " ['Chill out.', 'Tranquille.'],\n",
              " ['Choose me.', 'Choisis-moi !'],\n",
              " ['Come back.', 'Reviens !'],\n",
              " ['Come back.', 'Revenez !'],\n",
              " ['Come here.', 'Viens ici.'],\n",
              " ['Come here.', 'Venez là.'],\n",
              " ['Come over.', 'Venez ici !'],\n",
              " ['Come over.', 'Viens chez nous !'],\n",
              " ['Come over.', 'Venez chez nous !'],\n",
              " ['Come over.', 'Viens chez moi !'],\n",
              " ['Come over.', 'Venez chez moi !'],\n",
              " ['Come soon.', 'Viens bientôt !'],\n",
              " ['Come soon.', 'Venez bientôt !'],\n",
              " ['Cool down.', 'Calmez-vous !'],\n",
              " ['Did I win?', 'Ai-je gagné ?'],\n",
              " ['Did I win?', \"L'ai-je emporté ?\"],\n",
              " ['Did I win?', 'Est-ce moi qui ai gagné ?'],\n",
              " ['Do it now.', 'Faites-le maintenant.'],\n",
              " ['Dogs bark.', 'Des chiens aboient.'],\n",
              " ['Dogs bark.', 'Les chiens aboient.'],\n",
              " [\"Don't ask.\", 'Ne demande pas !'],\n",
              " [\"Don't cry.\", 'Ne pleure pas !'],\n",
              " [\"Don't die.\", 'Ne meurs pas !'],\n",
              " [\"Don't die.\", 'Ne mourez pas !'],\n",
              " [\"Don't lie.\", 'Ne mens pas.'],\n",
              " [\"Don't lie.\", 'Ne mens pas !'],\n",
              " [\"Don't run.\", 'Ne courez pas.'],\n",
              " [\"Don't run.\", 'Ne cours pas.'],\n",
              " ['Excuse me.', 'Excuse-moi.'],\n",
              " ['Excuse me.', 'Excusez-moi.'],\n",
              " ['Excuse me?', 'Pardon\\u202f?'],\n",
              " ['Excuse me?', 'Je vous demande pardon\\u202f?'],\n",
              " ['Excuse me?', 'Plaît-il\\u202f?'],\n",
              " ['Excuse me?', 'Plait-il\\u202f?'],\n",
              " ['Excuse me?', 'Pardon ?'],\n",
              " ['Fantastic!', 'Fantastique\\u202f!'],\n",
              " ['Fantastic!', 'Fantastique\\xa0!'],\n",
              " ['Fantastic!', 'Sensass !'],\n",
              " ['Feel this.', 'Sens ça !'],\n",
              " ['Feel this.', 'Sentez ça !'],\n",
              " ['Feel this.', 'Touche ça !'],\n",
              " ['Feel this.', 'Touchez ça !'],\n",
              " ['Film this.', 'Filmez ceci.'],\n",
              " ['Film this.', 'Filme ceci.'],\n",
              " ['Follow me.', 'Suis-moi.'],\n",
              " ['Follow us.', 'Suis-nous !'],\n",
              " ['Follow us.', 'Suivez-nous !'],\n",
              " ['Forget it!', 'Oublie !'],\n",
              " ['Forget it!', 'Oublie-le !'],\n",
              " ['Forget it!', 'Oubliez !'],\n",
              " ['Forget it!', 'Oubliez-le !'],\n",
              " ['Forget it!', 'Laissez tomber.'],\n",
              " ['Forget it!', 'Oubliez ça !'],\n",
              " ['Forget it.', 'Laisse tomber.'],\n",
              " ['Forget it.', 'Oublie.'],\n",
              " ['Forget it.', 'Oublie-le !'],\n",
              " ['Forget it.', 'Laissez tomber.'],\n",
              " ['Forget it.', 'Oubliez ça !'],\n",
              " ['Forget me.', 'Oublie-moi.'],\n",
              " ['Forget me.', 'Oubliez-moi.'],\n",
              " ['Get a job.', 'Trouve un emploi !'],\n",
              " ['Get a job.', 'Trouve un boulot !'],\n",
              " ['Get a job.', 'Trouvez un emploi !'],\n",
              " ['Get a job.', 'Trouvez un boulot !'],\n",
              " ['Get going.', 'Vas-y.'],\n",
              " ['Get going.', 'Allez-y.'],\n",
              " ['Get going.', 'Marche.'],\n",
              " ['Get going.', 'Avance.'],\n",
              " ['Get going.', 'En route !'],\n",
              " ['Get going.', 'En avant.'],\n",
              " ['Get going.', 'Déplace-toi.'],\n",
              " ['Get going.', 'Déplacez-vous.'],\n",
              " ['Get going.', 'En route.'],\n",
              " ['Get ready.', 'Prépare-toi.'],\n",
              " ['Get ready.', 'Préparez-vous.'],\n",
              " ['Go faster.', 'Va plus vite.'],\n",
              " ['Go faster.', 'Allez plus vite.'],\n",
              " ['Go for it.', 'En route !'],\n",
              " ['Go get it.', 'Va le chercher !'],\n",
              " ['Go get it.', 'Allez le chercher !'],\n",
              " ['Go inside.', 'Entrez\\u202f!'],\n",
              " ['Go to bed.', 'Va dormir\\u202f!'],\n",
              " ['Go to bed.', 'Va au lit !'],\n",
              " ['Go to bed.', 'Au lit !'],\n",
              " ['Go to bed.', 'Allez au lit !'],\n",
              " ['Go to bed.', 'File au lit !'],\n",
              " ['Go to bed.', 'Au dodo !'],\n",
              " ['Go to bed.', 'Va te coucher !'],\n",
              " ['Good luck.', 'Bonne chance\\u202f!'],\n",
              " ['Good luck.', 'Bonne chance.'],\n",
              " ['Good luck.', 'Bonne continuation !'],\n",
              " ['Grab that.', 'Attrape ça !'],\n",
              " ['Grab that.', 'Attrapez ça !'],\n",
              " ['Grab that.', 'Saisis-toi de ça !'],\n",
              " ['Grab that.', 'Saisissez-vous de ça !'],\n",
              " ['Grab this.', 'Attrape ça !'],\n",
              " ...]"
            ]
          },
          "metadata": {},
          "execution_count": 8
        }
      ]
    },
    {
      "cell_type": "code",
      "source": [
        "ascii_string = regex.sub(r'[^\\x00-\\x7f]', r'', \"«\\xa0Je pense qu'on ne devrait pas faire ça.\\xa0» «\\xa0Personne ne vous a demandé votre avis.\\xa0»\")\n",
        "ascii_string"
      ],
      "metadata": {
        "colab": {
          "base_uri": "https://localhost:8080/",
          "height": 35
        },
        "id": "O38mPaatAV4t",
        "outputId": "331e0b3c-b297-4dca-e866-2bc180c48b69"
      },
      "execution_count": 9,
      "outputs": [
        {
          "output_type": "execute_result",
          "data": {
            "text/plain": [
              "\"Je pense qu'on ne devrait pas faire a. Personne ne vous a demand votre avis.\""
            ],
            "application/vnd.google.colaboratory.intrinsic+json": {
              "type": "string"
            }
          },
          "metadata": {},
          "execution_count": 9
        }
      ]
    },
    {
      "cell_type": "code",
      "source": [
        "unicodedata.normalize(\"NFKD\", 'Cours\\u202f!')"
      ],
      "metadata": {
        "colab": {
          "base_uri": "https://localhost:8080/",
          "height": 35
        },
        "id": "fNr70hBS-4LS",
        "outputId": "669b0474-81a5-46a2-9d7b-f294f7c098c8"
      },
      "execution_count": 10,
      "outputs": [
        {
          "output_type": "execute_result",
          "data": {
            "text/plain": [
              "'Cours !'"
            ],
            "application/vnd.google.colaboratory.intrinsic+json": {
              "type": "string"
            }
          },
          "metadata": {},
          "execution_count": 10
        }
      ]
    },
    {
      "cell_type": "code",
      "source": [
        "frn_eng = frn_eng[:210000]\n",
        "len(frn_eng)"
      ],
      "metadata": {
        "colab": {
          "base_uri": "https://localhost:8080/"
        },
        "id": "hKnK4Miu8fgy",
        "outputId": "176cbbbe-62d8-44dd-da3b-aedbc6c99776"
      },
      "execution_count": 11,
      "outputs": [
        {
          "output_type": "execute_result",
          "data": {
            "text/plain": [
              "210000"
            ]
          },
          "metadata": {},
          "execution_count": 11
        }
      ]
    },
    {
      "cell_type": "markdown",
      "source": [
        "Lets read in the data"
      ],
      "metadata": {
        "id": "NRZDcc7-TZ2_"
      }
    },
    {
      "cell_type": "code",
      "source": [
        "# Open a file in append mode\n",
        "with open('small_vocab_en', 'a') as file1, open('small_vocab_fr', 'a') as file2:\n",
        "  for i in range(len(frn_eng)):\n",
        "      file1.write(frn_eng[i][0] + '\\n')\n",
        "      file2.write(frn_eng[i][1] + '\\n')\n"
      ],
      "metadata": {
        "id": "EQctq5HoLbCy"
      },
      "execution_count": 12,
      "outputs": []
    },
    {
      "cell_type": "code",
      "source": [
        "def load_data(path):\n",
        "    \"\"\"\n",
        "    Load dataset\n",
        "    \"\"\"\n",
        "    input_file = os.path.join(path)\n",
        "    with open(input_file, \"r\", encoding='utf-8') as f:\n",
        "        data = f.read()\n",
        "\n",
        "    return data.split('\\n')"
      ],
      "metadata": {
        "id": "9c87CajiByAN"
      },
      "execution_count": 13,
      "outputs": []
    },
    {
      "cell_type": "code",
      "source": [
        "# Load English data\n",
        "english_sentences = load_data('small_vocab_en')\n",
        "# Load French data\n",
        "french_sentences = load_data('small_vocab_fr')"
      ],
      "metadata": {
        "id": "vWb6XrKOB1mu"
      },
      "execution_count": 14,
      "outputs": []
    },
    {
      "cell_type": "code",
      "source": [
        "len(english_sentences)"
      ],
      "metadata": {
        "colab": {
          "base_uri": "https://localhost:8080/"
        },
        "id": "_ILL8eOGB6Ao",
        "outputId": "e557bd84-7feb-4903-856c-790d61afcfd2"
      },
      "execution_count": 15,
      "outputs": [
        {
          "output_type": "execute_result",
          "data": {
            "text/plain": [
              "347861"
            ]
          },
          "metadata": {},
          "execution_count": 15
        }
      ]
    },
    {
      "cell_type": "code",
      "source": [
        "len(french_sentences)"
      ],
      "metadata": {
        "colab": {
          "base_uri": "https://localhost:8080/"
        },
        "id": "PEMfOm3nB_du",
        "outputId": "921c2b65-3b5c-4783-b4e5-b04ec61328b7"
      },
      "execution_count": 16,
      "outputs": [
        {
          "output_type": "execute_result",
          "data": {
            "text/plain": [
              "347861"
            ]
          },
          "metadata": {},
          "execution_count": 16
        }
      ]
    },
    {
      "cell_type": "code",
      "source": [
        "# Remove punctuation\n",
        "english_sentences = [s.translate(str.maketrans('', '', string.punctuation)) for s in english_sentences]\n",
        "french_sentences = [s.translate(str.maketrans('', '', string.punctuation)) for s in french_sentences]"
      ],
      "metadata": {
        "id": "m4ilxzddbem8"
      },
      "execution_count": 17,
      "outputs": []
    },
    {
      "cell_type": "code",
      "source": [
        "# convert to lowercase\n",
        "for i in range(len(english_sentences)):\n",
        "    english_sentences[i] = english_sentences[i].lower()\n",
        "    \n",
        "    french_sentences[i] = french_sentences[i].lower()\n",
        "\n",
        "    english_sentences[i] = regex.sub(r'[^\\x00-\\x7f]', r'', english_sentences[i])\n",
        "    french_sentences[i] = regex.sub(r'[^\\x00-\\x7f]', r'', french_sentences[i])"
      ],
      "metadata": {
        "id": "rC4LOVW0bpb0"
      },
      "execution_count": 18,
      "outputs": []
    },
    {
      "cell_type": "code",
      "source": [
        "# empty lists\n",
        "eng_l = []\n",
        "frn_l = []\n",
        "\n",
        "# populate the lists with sentence lengths\n",
        "for i in english_sentences:\n",
        "    eng_l.append(len(i))\n",
        "\n",
        "for i in french_sentences:\n",
        "    frn_l.append(len(i))"
      ],
      "metadata": {
        "id": "EY0niVbun5Lo"
      },
      "execution_count": 19,
      "outputs": []
    },
    {
      "cell_type": "code",
      "source": [
        "max(eng_l)"
      ],
      "metadata": {
        "colab": {
          "base_uri": "https://localhost:8080/"
        },
        "id": "t8l0Bayepu_F",
        "outputId": "b1acc455-0e2c-45cc-e6d7-cc8b192a71e6"
      },
      "execution_count": 20,
      "outputs": [
        {
          "output_type": "execute_result",
          "data": {
            "text/plain": [
              "100"
            ]
          },
          "metadata": {},
          "execution_count": 20
        }
      ]
    },
    {
      "cell_type": "code",
      "source": [
        "max(frn_l)"
      ],
      "metadata": {
        "colab": {
          "base_uri": "https://localhost:8080/"
        },
        "id": "IKKimbYspwsy",
        "outputId": "3f333ffb-449f-46aa-da77-365c380c9ef0"
      },
      "execution_count": 21,
      "outputs": [
        {
          "output_type": "execute_result",
          "data": {
            "text/plain": [
              "111"
            ]
          },
          "metadata": {},
          "execution_count": 21
        }
      ]
    },
    {
      "cell_type": "code",
      "source": [
        "import pandas as pd\n",
        "length_df = pd.DataFrame({'eng':eng_l, 'frn':frn_l})"
      ],
      "metadata": {
        "id": "35h08wbVp52l"
      },
      "execution_count": 22,
      "outputs": []
    },
    {
      "cell_type": "code",
      "source": [
        "import matplotlib.pyplot as plt\n",
        "length_df.hist(bins = 30)\n",
        "plt.show()"
      ],
      "metadata": {
        "colab": {
          "base_uri": "https://localhost:8080/",
          "height": 452
        },
        "id": "gI3B621FxENN",
        "outputId": "7a7a73cb-1d63-4bcc-d0ad-19df6e4a9b7d"
      },
      "execution_count": 23,
      "outputs": [
        {
          "output_type": "display_data",
          "data": {
            "text/plain": [
              "<Figure size 640x480 with 2 Axes>"
            ],
            "image/png": "[encoded data removed]"
          },
          "metadata": {}
        }
      ]
    },
    {
      "cell_type": "code",
      "source": [
        "print(max(eng_l), max(frn_l))"
      ],
      "metadata": {
        "colab": {
          "base_uri": "https://localhost:8080/"
        },
        "id": "2e5RwcBoxKSV",
        "outputId": "5812677d-2e1b-4556-96d7-b972d3d86fac"
      },
      "execution_count": 24,
      "outputs": [
        {
          "output_type": "stream",
          "name": "stdout",
          "text": [
            "100 111\n"
          ]
        }
      ]
    },
    {
      "cell_type": "code",
      "source": [
        "# function to build a tokenizer\n",
        "def tokenization(lines):\n",
        "    tokenizer = Tokenizer()\n",
        "    tokenizer.fit_on_texts(lines)\n",
        "    return tokenizer"
      ],
      "metadata": {
        "id": "vWnkr4l5xYPw"
      },
      "execution_count": 25,
      "outputs": []
    },
    {
      "cell_type": "code",
      "source": [
        "# prepare english tokenizer\n",
        "eng_tokenizer = tokenization(english_sentences)\n",
        "eng_vocab_size = len(eng_tokenizer.word_index) + 1\n",
        "\n",
        "eng_length = 100\n",
        "print('English Vocabulary Size: %d' % eng_vocab_size)"
      ],
      "metadata": {
        "colab": {
          "base_uri": "https://localhost:8080/"
        },
        "id": "Gs4ACycAxdID",
        "outputId": "cbb1113c-a0dd-4c7e-dc8f-547e5f859549"
      },
      "execution_count": 26,
      "outputs": [
        {
          "output_type": "stream",
          "name": "stdout",
          "text": [
            "English Vocabulary Size: 15251\n"
          ]
        }
      ]
    },
    {
      "cell_type": "code",
      "source": [
        "# prepare French tokenizer\n",
        "frn_tokenizer = tokenization(french_sentences)\n",
        "frn_vocab_size = len(frn_tokenizer.word_index) + 1\n",
        "\n",
        "frn_length = 111\n",
        "print('French Vocabulary Size: %d' % frn_vocab_size)"
      ],
      "metadata": {
        "colab": {
          "base_uri": "https://localhost:8080/"
        },
        "id": "D4tyGkYCyUpO",
        "outputId": "844f8e67-058d-42ac-de86-c64ca0538d9a"
      },
      "execution_count": 27,
      "outputs": [
        {
          "output_type": "stream",
          "name": "stdout",
          "text": [
            "French Vocabulary Size: 29519\n"
          ]
        }
      ]
    },
    {
      "cell_type": "code",
      "source": [
        "#encode and pad sequences\n",
        "def encode_sequences(tokenizer, length, lines):\n",
        "    # integer encode sequences\n",
        "    seq = tokenizer.texts_to_sequences(lines)\n",
        "    # pad sequences with 0 values\n",
        "    seq = pad_sequences(seq, maxlen=length, padding='post')\n",
        "    return seq"
      ],
      "metadata": {
        "id": "xhnYBmoByeHt"
      },
      "execution_count": 28,
      "outputs": []
    },
    {
      "cell_type": "code",
      "source": [
        "from sklearn.model_selection import train_test_split\n",
        "frn_train, frn_test1, eng_train, eng_test1 = train_test_split(french_sentences,english_sentences, test_size=0.01, random_state = 12)\n"
      ],
      "metadata": {
        "id": "xknp1K38y-jC"
      },
      "execution_count": 29,
      "outputs": []
    },
    {
      "cell_type": "markdown",
      "source": [],
      "metadata": {
        "id": "oHQ9TvNy0xgK"
      }
    },
    {
      "cell_type": "code",
      "source": [
        "len(frn_train)"
      ],
      "metadata": {
        "colab": {
          "base_uri": "https://localhost:8080/"
        },
        "id": "36uzx10uzjIm",
        "outputId": "ad3b236b-33c5-483a-b8e0-09239c00a382"
      },
      "execution_count": 30,
      "outputs": [
        {
          "output_type": "execute_result",
          "data": {
            "text/plain": [
              "344382"
            ]
          },
          "metadata": {},
          "execution_count": 30
        }
      ]
    },
    {
      "cell_type": "code",
      "source": [
        "len(frn_test1)"
      ],
      "metadata": {
        "colab": {
          "base_uri": "https://localhost:8080/"
        },
        "id": "u9T8EsPI0OFv",
        "outputId": "ed2fff95-ea65-46e4-d2ca-92d819dcd074"
      },
      "execution_count": 31,
      "outputs": [
        {
          "output_type": "execute_result",
          "data": {
            "text/plain": [
              "3479"
            ]
          },
          "metadata": {},
          "execution_count": 31
        }
      ]
    },
    {
      "cell_type": "code",
      "source": [
        "len(eng_train)"
      ],
      "metadata": {
        "colab": {
          "base_uri": "https://localhost:8080/"
        },
        "id": "O05QQaln0PGj",
        "outputId": "3d6c71f6-a86a-45ef-ca4e-14da501309f9"
      },
      "execution_count": 32,
      "outputs": [
        {
          "output_type": "execute_result",
          "data": {
            "text/plain": [
              "344382"
            ]
          },
          "metadata": {},
          "execution_count": 32
        }
      ]
    },
    {
      "cell_type": "code",
      "source": [
        "len(eng_test1)"
      ],
      "metadata": {
        "colab": {
          "base_uri": "https://localhost:8080/"
        },
        "id": "-eOgGvtJ0iZ3",
        "outputId": "82f42dd7-d900-4045-a3ae-371ae3a16c83"
      },
      "execution_count": 33,
      "outputs": [
        {
          "output_type": "execute_result",
          "data": {
            "text/plain": [
              "3479"
            ]
          },
          "metadata": {},
          "execution_count": 33
        }
      ]
    },
    {
      "cell_type": "code",
      "source": [
        "# prepare training data\n",
        "frn_train = encode_sequences(frn_tokenizer, frn_length, frn_train)\n",
        "eng_train = encode_sequences(eng_tokenizer, eng_length, eng_train)"
      ],
      "metadata": {
        "id": "xoQgAbHU0mZR"
      },
      "execution_count": 34,
      "outputs": []
    },
    {
      "cell_type": "code",
      "source": [
        "# prepare validation data\n",
        "frn_test = encode_sequences(frn_tokenizer, frn_length, frn_test1)\n",
        "eng_test = encode_sequences(eng_tokenizer, eng_length, eng_test1)"
      ],
      "metadata": {
        "id": "MWgwlfBI1vYw"
      },
      "execution_count": 35,
      "outputs": []
    },
    {
      "cell_type": "code",
      "source": [
        "\n",
        "def build_model(in_vocab, out_vocab, in_timesteps, out_timesteps, units):\n",
        "    model = Sequential()\n",
        "    model.add(Embedding(in_vocab, units, input_length=in_timesteps, mask_zero=True))\n",
        "    model.add(Bidirectional(GRU(units, return_sequences=True)))\n",
        "    model.add(Dropout(0.2))\n",
        "    model.add(Bidirectional(GRU(units)))\n",
        "    model.add(RepeatVector(out_timesteps))\n",
        "    model.add(Bidirectional(GRU(units, return_sequences=True)))\n",
        "    model.add(Dropout(0.2))\n",
        "    model.add(Dense(out_vocab, activation='softmax'))\n",
        "\n",
        "    return model"
      ],
      "metadata": {
        "id": "-_hk4pU-2Mo9"
      },
      "execution_count": 36,
      "outputs": []
    },
    {
      "cell_type": "code",
      "source": [
        "model = build_model(frn_vocab_size, eng_vocab_size, frn_length, eng_length, 512)\n",
        "rms = optimizers.RMSprop(learning_rate=0.001)\n",
        "model.compile(optimizer=rms, loss='sparse_categorical_crossentropy')"
      ],
      "metadata": {
        "id": "mOrTjWch2Qat"
      },
      "execution_count": 37,
      "outputs": []
    },
    {
      "cell_type": "code",
      "source": [
        "model.summary()"
      ],
      "metadata": {
        "colab": {
          "base_uri": "https://localhost:8080/"
        },
        "id": "IC2XACsx2VW9",
        "outputId": "348fdfab-fa3e-4aa7-b211-2e1026cbd0ce"
      },
      "execution_count": 38,
      "outputs": [
        {
          "output_type": "stream",
          "name": "stdout",
          "text": [
            "Model: \"sequential\"\n",
            "_________________________________________________________________\n",
            " Layer (type)                Output Shape              Param #   \n",
            "=================================================================\n",
            " embedding (Embedding)       (None, 111, 512)          15113728  \n",
            "                                                                 \n",
            " bidirectional (Bidirectiona  (None, 111, 1024)        3151872   \n",
            " l)                                                              \n",
            "                                                                 \n",
            " dropout (Dropout)           (None, 111, 1024)         0         \n",
            "                                                                 \n",
            " bidirectional_1 (Bidirectio  (None, 1024)             4724736   \n",
            " nal)                                                            \n",
            "                                                                 \n",
            " repeat_vector (RepeatVector  (None, 100, 1024)        0         \n",
            " )                                                               \n",
            "                                                                 \n",
            " bidirectional_2 (Bidirectio  (None, 100, 1024)        4724736   \n",
            " nal)                                                            \n",
            "                                                                 \n",
            " dropout_1 (Dropout)         (None, 100, 1024)         0         \n",
            "                                                                 \n",
            " dense (Dense)               (None, 100, 15251)        15632275  \n",
            "                                                                 \n",
            "=================================================================\n",
            "Total params: 43,347,347\n",
            "Trainable params: 43,347,347\n",
            "Non-trainable params: 0\n",
            "_________________________________________________________________\n"
          ]
        }
      ]
    },
    {
      "cell_type": "code",
      "source": [
        "frn_train.shape"
      ],
      "metadata": {
        "colab": {
          "base_uri": "https://localhost:8080/"
        },
        "id": "abOljyBs2q3S",
        "outputId": "59686ca3-3841-40f8-9209-bbfaba56c4b9"
      },
      "execution_count": 39,
      "outputs": [
        {
          "output_type": "execute_result",
          "data": {
            "text/plain": [
              "(344382, 111)"
            ]
          },
          "metadata": {},
          "execution_count": 39
        }
      ]
    },
    {
      "cell_type": "code",
      "source": [
        "eng_train.shape"
      ],
      "metadata": {
        "colab": {
          "base_uri": "https://localhost:8080/"
        },
        "id": "JF55TTbg2zff",
        "outputId": "fb9d4c94-bb7a-49fe-d0ec-2a539d9f8b49"
      },
      "execution_count": 40,
      "outputs": [
        {
          "output_type": "execute_result",
          "data": {
            "text/plain": [
              "(344382, 100)"
            ]
          },
          "metadata": {},
          "execution_count": 40
        }
      ]
    },
    {
      "cell_type": "code",
      "source": [
        "filename = 'model.h1.24_jan_19'\n",
        "checkpoint = ModelCheckpoint(filename, monitor='val_loss', verbose=1, save_best_only=True, mode='min')\n",
        "\n",
        "history = model.fit(frn_train, eng_train.reshape(eng_train.shape[0], eng_train.shape[1], 1),epochs=30, batch_size=512, validation_split = 0.2,callbacks=[checkpoint], verbose=1)"
      ],
      "metadata": {
        "colab": {
          "base_uri": "https://localhost:8080/"
        },
        "id": "e1cdkfDO26fD",
        "outputId": "d46c122b-c059-4bc5-f675-d983faf519f2"
      },
      "execution_count": 41,
      "outputs": [
        {
          "output_type": "stream",
          "name": "stdout",
          "text": [
            "Epoch 1/30\n",
            "538/539 [============================>.] - ETA: 0s - loss: 0.4545\n",
            "Epoch 1: val_loss improved from inf to 0.28884, saving model to model.h1.24_jan_19\n"
          ]
        },
        {
          "output_type": "stream",
          "name": "stderr",
          "text": [
            "WARNING:absl:Found untraced functions such as gru_cell_1_layer_call_fn, gru_cell_1_layer_call_and_return_conditional_losses, gru_cell_2_layer_call_fn, gru_cell_2_layer_call_and_return_conditional_losses, gru_cell_4_layer_call_fn while saving (showing 5 of 12). These functions will not be directly callable after loading.\n"
          ]
        },
        {
          "output_type": "stream",
          "name": "stdout",
          "text": [
            "\b\b\b\b\b\b\b\b\b\b\b\b\b\b\b\b\b\b\b\b\b\b\b\b\b\b\b\b\b\b\b\b\b\b\b\b\b\b\b\b\b\b\b\b\b\b\b\b\b\b\b\b\b\b\b\b\b\b\b\b\b\b\b\b\b\r539/539 [==============================] - 185s 302ms/step - loss: 0.4545 - val_loss: 0.2888\n",
            "Epoch 2/30\n",
            "538/539 [============================>.] - ETA: 0s - loss: 0.2223\n",
            "Epoch 2: val_loss improved from 0.28884 to 0.17181, saving model to model.h1.24_jan_19\n"
          ]
        },
        {
          "output_type": "stream",
          "name": "stderr",
          "text": [
            "WARNING:absl:Found untraced functions such as gru_cell_1_layer_call_fn, gru_cell_1_layer_call_and_return_conditional_losses, gru_cell_2_layer_call_fn, gru_cell_2_layer_call_and_return_conditional_losses, gru_cell_4_layer_call_fn while saving (showing 5 of 12). These functions will not be directly callable after loading.\n"
          ]
        },
        {
          "output_type": "stream",
          "name": "stdout",
          "text": [
            "\b\b\b\b\b\b\b\b\b\b\b\b\b\b\b\b\b\b\b\b\b\b\b\b\b\b\b\b\b\b\b\b\b\b\b\b\b\b\b\b\b\b\b\b\b\b\b\b\b\b\b\b\b\b\b\b\b\b\b\b\b\b\b\b\b\r539/539 [==============================] - 158s 292ms/step - loss: 0.2223 - val_loss: 0.1718\n",
            "Epoch 3/30\n",
            "538/539 [============================>.] - ETA: 0s - loss: 0.1413\n",
            "Epoch 3: val_loss improved from 0.17181 to 0.12416, saving model to model.h1.24_jan_19\n"
          ]
        },
        {
          "output_type": "stream",
          "name": "stderr",
          "text": [
            "WARNING:absl:Found untraced functions such as gru_cell_1_layer_call_fn, gru_cell_1_layer_call_and_return_conditional_losses, gru_cell_2_layer_call_fn, gru_cell_2_layer_call_and_return_conditional_losses, gru_cell_4_layer_call_fn while saving (showing 5 of 12). These functions will not be directly callable after loading.\n"
          ]
        },
        {
          "output_type": "stream",
          "name": "stdout",
          "text": [
            "\b\b\b\b\b\b\b\b\b\b\b\b\b\b\b\b\b\b\b\b\b\b\b\b\b\b\b\b\b\b\b\b\b\b\b\b\b\b\b\b\b\b\b\b\b\b\b\b\b\b\b\b\b\b\b\b\b\b\b\b\b\b\b\b\b\r539/539 [==============================] - 158s 293ms/step - loss: 0.1413 - val_loss: 0.1242\n",
            "Epoch 4/30\n",
            "538/539 [============================>.] - ETA: 0s - loss: 0.1118\n",
            "Epoch 4: val_loss improved from 0.12416 to 0.10823, saving model to model.h1.24_jan_19\n"
          ]
        },
        {
          "output_type": "stream",
          "name": "stderr",
          "text": [
            "WARNING:absl:Found untraced functions such as gru_cell_1_layer_call_fn, gru_cell_1_layer_call_and_return_conditional_losses, gru_cell_2_layer_call_fn, gru_cell_2_layer_call_and_return_conditional_losses, gru_cell_4_layer_call_fn while saving (showing 5 of 12). These functions will not be directly callable after loading.\n"
          ]
        },
        {
          "output_type": "stream",
          "name": "stdout",
          "text": [
            "\b\b\b\b\b\b\b\b\b\b\b\b\b\b\b\b\b\b\b\b\b\b\b\b\b\b\b\b\b\b\b\b\b\b\b\b\b\b\b\b\b\b\b\b\b\b\b\b\b\b\b\b\b\b\b\b\b\b\b\b\b\b\b\b\b\r539/539 [==============================] - 157s 291ms/step - loss: 0.1118 - val_loss: 0.1082\n",
            "Epoch 5/30\n",
            "538/539 [============================>.] - ETA: 0s - loss: 0.0965\n",
            "Epoch 5: val_loss improved from 0.10823 to 0.10050, saving model to model.h1.24_jan_19\n"
          ]
        },
        {
          "output_type": "stream",
          "name": "stderr",
          "text": [
            "WARNING:absl:Found untraced functions such as gru_cell_1_layer_call_fn, gru_cell_1_layer_call_and_return_conditional_losses, gru_cell_2_layer_call_fn, gru_cell_2_layer_call_and_return_conditional_losses, gru_cell_4_layer_call_fn while saving (showing 5 of 12). These functions will not be directly callable after loading.\n"
          ]
        },
        {
          "output_type": "stream",
          "name": "stdout",
          "text": [
            "\b\b\b\b\b\b\b\b\b\b\b\b\b\b\b\b\b\b\b\b\b\b\b\b\b\b\b\b\b\b\b\b\b\b\b\b\b\b\b\b\b\b\b\b\b\b\b\b\b\b\b\b\b\b\b\b\b\b\b\b\b\b\b\b\b\r539/539 [==============================] - 157s 292ms/step - loss: 0.0965 - val_loss: 0.1005\n",
            "Epoch 6/30\n",
            "538/539 [============================>.] - ETA: 0s - loss: 0.0862\n",
            "Epoch 6: val_loss improved from 0.10050 to 0.09511, saving model to model.h1.24_jan_19\n"
          ]
        },
        {
          "output_type": "stream",
          "name": "stderr",
          "text": [
            "WARNING:absl:Found untraced functions such as gru_cell_1_layer_call_fn, gru_cell_1_layer_call_and_return_conditional_losses, gru_cell_2_layer_call_fn, gru_cell_2_layer_call_and_return_conditional_losses, gru_cell_4_layer_call_fn while saving (showing 5 of 12). These functions will not be directly callable after loading.\n"
          ]
        },
        {
          "output_type": "stream",
          "name": "stdout",
          "text": [
            "\b\b\b\b\b\b\b\b\b\b\b\b\b\b\b\b\b\b\b\b\b\b\b\b\b\b\b\b\b\b\b\b\b\b\b\b\b\b\b\b\b\b\b\b\b\b\b\b\b\b\b\b\b\b\b\b\b\b\b\b\b\b\b\b\b\r539/539 [==============================] - 158s 292ms/step - loss: 0.0862 - val_loss: 0.0951\n",
            "Epoch 7/30\n",
            "538/539 [============================>.] - ETA: 0s - loss: 0.0782\n",
            "Epoch 7: val_loss improved from 0.09511 to 0.09100, saving model to model.h1.24_jan_19\n"
          ]
        },
        {
          "output_type": "stream",
          "name": "stderr",
          "text": [
            "WARNING:absl:Found untraced functions such as gru_cell_1_layer_call_fn, gru_cell_1_layer_call_and_return_conditional_losses, gru_cell_2_layer_call_fn, gru_cell_2_layer_call_and_return_conditional_losses, gru_cell_4_layer_call_fn while saving (showing 5 of 12). These functions will not be directly callable after loading.\n"
          ]
        },
        {
          "output_type": "stream",
          "name": "stdout",
          "text": [
            "\b\b\b\b\b\b\b\b\b\b\b\b\b\b\b\b\b\b\b\b\b\b\b\b\b\b\b\b\b\b\b\b\b\b\b\b\b\b\b\b\b\b\b\b\b\b\b\b\b\b\b\b\b\b\b\b\b\b\b\b\b\b\b\b\b\r539/539 [==============================] - 157s 292ms/step - loss: 0.0782 - val_loss: 0.0910\n",
            "Epoch 8/30\n",
            "538/539 [============================>.] - ETA: 0s - loss: 0.0695\n",
            "Epoch 8: val_loss improved from 0.09100 to 0.08992, saving model to model.h1.24_jan_19\n"
          ]
        },
        {
          "output_type": "stream",
          "name": "stderr",
          "text": [
            "WARNING:absl:Found untraced functions such as gru_cell_1_layer_call_fn, gru_cell_1_layer_call_and_return_conditional_losses, gru_cell_2_layer_call_fn, gru_cell_2_layer_call_and_return_conditional_losses, gru_cell_4_layer_call_fn while saving (showing 5 of 12). These functions will not be directly callable after loading.\n"
          ]
        },
        {
          "output_type": "stream",
          "name": "stdout",
          "text": [
            "\b\b\b\b\b\b\b\b\b\b\b\b\b\b\b\b\b\b\b\b\b\b\b\b\b\b\b\b\b\b\b\b\b\b\b\b\b\b\b\b\b\b\b\b\b\b\b\b\b\b\b\b\b\b\b\b\b\b\b\b\b\b\b\b\b\r539/539 [==============================] - 158s 293ms/step - loss: 0.0695 - val_loss: 0.0899\n",
            "Epoch 9/30\n",
            "538/539 [============================>.] - ETA: 0s - loss: 0.0639\n",
            "Epoch 9: val_loss improved from 0.08992 to 0.08738, saving model to model.h1.24_jan_19\n"
          ]
        },
        {
          "output_type": "stream",
          "name": "stderr",
          "text": [
            "WARNING:absl:Found untraced functions such as gru_cell_1_layer_call_fn, gru_cell_1_layer_call_and_return_conditional_losses, gru_cell_2_layer_call_fn, gru_cell_2_layer_call_and_return_conditional_losses, gru_cell_4_layer_call_fn while saving (showing 5 of 12). These functions will not be directly callable after loading.\n"
          ]
        },
        {
          "output_type": "stream",
          "name": "stdout",
          "text": [
            "\b\b\b\b\b\b\b\b\b\b\b\b\b\b\b\b\b\b\b\b\b\b\b\b\b\b\b\b\b\b\b\b\b\b\b\b\b\b\b\b\b\b\b\b\b\b\b\b\b\b\b\b\b\b\b\b\b\b\b\b\b\b\b\b\b\r539/539 [==============================] - 158s 293ms/step - loss: 0.0639 - val_loss: 0.0874\n",
            "Epoch 10/30\n",
            "538/539 [============================>.] - ETA: 0s - loss: 0.0592\n",
            "Epoch 10: val_loss did not improve from 0.08738\n",
            "539/539 [==============================] - 105s 194ms/step - loss: 0.0592 - val_loss: 0.0877\n",
            "Epoch 11/30\n",
            "538/539 [============================>.] - ETA: 0s - loss: 0.0548\n",
            "Epoch 11: val_loss improved from 0.08738 to 0.08592, saving model to model.h1.24_jan_19\n"
          ]
        },
        {
          "output_type": "stream",
          "name": "stderr",
          "text": [
            "WARNING:absl:Found untraced functions such as gru_cell_1_layer_call_fn, gru_cell_1_layer_call_and_return_conditional_losses, gru_cell_2_layer_call_fn, gru_cell_2_layer_call_and_return_conditional_losses, gru_cell_4_layer_call_fn while saving (showing 5 of 12). These functions will not be directly callable after loading.\n"
          ]
        },
        {
          "output_type": "stream",
          "name": "stdout",
          "text": [
            "\b\b\b\b\b\b\b\b\b\b\b\b\b\b\b\b\b\b\b\b\b\b\b\b\b\b\b\b\b\b\b\b\b\b\b\b\b\b\b\b\b\b\b\b\b\b\b\b\b\b\b\b\b\b\b\b\b\b\b\b\b\b\b\b\b\r539/539 [==============================] - 157s 292ms/step - loss: 0.0548 - val_loss: 0.0859\n",
            "Epoch 12/30\n",
            "538/539 [============================>.] - ETA: 0s - loss: 0.0513\n",
            "Epoch 12: val_loss improved from 0.08592 to 0.08584, saving model to model.h1.24_jan_19\n"
          ]
        },
        {
          "output_type": "stream",
          "name": "stderr",
          "text": [
            "WARNING:absl:Found untraced functions such as gru_cell_1_layer_call_fn, gru_cell_1_layer_call_and_return_conditional_losses, gru_cell_2_layer_call_fn, gru_cell_2_layer_call_and_return_conditional_losses, gru_cell_4_layer_call_fn while saving (showing 5 of 12). These functions will not be directly callable after loading.\n"
          ]
        },
        {
          "output_type": "stream",
          "name": "stdout",
          "text": [
            "\b\b\b\b\b\b\b\b\b\b\b\b\b\b\b\b\b\b\b\b\b\b\b\b\b\b\b\b\b\b\b\b\b\b\b\b\b\b\b\b\b\b\b\b\b\b\b\b\b\b\b\b\b\b\b\b\b\b\b\b\b\b\b\b\b\r539/539 [==============================] - 157s 292ms/step - loss: 0.0513 - val_loss: 0.0858\n",
            "Epoch 13/30\n",
            "538/539 [============================>.] - ETA: 0s - loss: 0.0489\n",
            "Epoch 13: val_loss did not improve from 0.08584\n",
            "539/539 [==============================] - 105s 194ms/step - loss: 0.0489 - val_loss: 0.0862\n",
            "Epoch 14/30\n",
            "538/539 [============================>.] - ETA: 0s - loss: 0.0457\n",
            "Epoch 14: val_loss did not improve from 0.08584\n",
            "539/539 [==============================] - 105s 194ms/step - loss: 0.0457 - val_loss: 0.0868\n",
            "Epoch 15/30\n",
            "538/539 [============================>.] - ETA: 0s - loss: 0.0438\n",
            "Epoch 15: val_loss did not improve from 0.08584\n",
            "539/539 [==============================] - 104s 194ms/step - loss: 0.0438 - val_loss: 0.0872\n",
            "Epoch 16/30\n",
            "538/539 [============================>.] - ETA: 0s - loss: 0.0415\n",
            "Epoch 16: val_loss did not improve from 0.08584\n",
            "539/539 [==============================] - 105s 194ms/step - loss: 0.0415 - val_loss: 0.0868\n",
            "Epoch 17/30\n",
            "538/539 [============================>.] - ETA: 0s - loss: 0.0400\n",
            "Epoch 17: val_loss did not improve from 0.08584\n",
            "539/539 [==============================] - 105s 194ms/step - loss: 0.0400 - val_loss: 0.0880\n",
            "Epoch 18/30\n",
            "538/539 [============================>.] - ETA: 0s - loss: 0.0384\n",
            "Epoch 18: val_loss did not improve from 0.08584\n",
            "539/539 [==============================] - 105s 194ms/step - loss: 0.0384 - val_loss: 0.0880\n",
            "Epoch 19/30\n",
            "538/539 [============================>.] - ETA: 0s - loss: 0.0371\n",
            "Epoch 19: val_loss did not improve from 0.08584\n",
            "539/539 [==============================] - 104s 194ms/step - loss: 0.0371 - val_loss: 0.0873\n",
            "Epoch 20/30\n",
            "538/539 [============================>.] - ETA: 0s - loss: 0.0369\n",
            "Epoch 20: val_loss did not improve from 0.08584\n",
            "539/539 [==============================] - 104s 194ms/step - loss: 0.0369 - val_loss: 0.0888\n",
            "Epoch 21/30\n",
            "538/539 [============================>.] - ETA: 0s - loss: 0.0349\n",
            "Epoch 21: val_loss did not improve from 0.08584\n",
            "539/539 [==============================] - 104s 194ms/step - loss: 0.0349 - val_loss: 0.0881\n",
            "Epoch 22/30\n",
            "538/539 [============================>.] - ETA: 0s - loss: 0.0340\n",
            "Epoch 22: val_loss did not improve from 0.08584\n",
            "539/539 [==============================] - 104s 194ms/step - loss: 0.0340 - val_loss: 0.0884\n",
            "Epoch 23/30\n",
            "538/539 [============================>.] - ETA: 0s - loss: 0.0332\n",
            "Epoch 23: val_loss did not improve from 0.08584\n",
            "539/539 [==============================] - 104s 194ms/step - loss: 0.0332 - val_loss: 0.0891\n",
            "Epoch 24/30\n",
            "538/539 [============================>.] - ETA: 0s - loss: 0.0325\n",
            "Epoch 24: val_loss did not improve from 0.08584\n",
            "539/539 [==============================] - 105s 194ms/step - loss: 0.0325 - val_loss: 0.0907\n",
            "Epoch 25/30\n",
            "538/539 [============================>.] - ETA: 0s - loss: 0.0317\n",
            "Epoch 25: val_loss did not improve from 0.08584\n",
            "539/539 [==============================] - 104s 194ms/step - loss: 0.0317 - val_loss: 0.0901\n",
            "Epoch 26/30\n",
            "538/539 [============================>.] - ETA: 0s - loss: 0.0313\n",
            "Epoch 26: val_loss did not improve from 0.08584\n",
            "539/539 [==============================] - 104s 194ms/step - loss: 0.0313 - val_loss: 0.0897\n",
            "Epoch 27/30\n",
            "538/539 [============================>.] - ETA: 0s - loss: 0.0306\n",
            "Epoch 27: val_loss did not improve from 0.08584\n",
            "539/539 [==============================] - 104s 194ms/step - loss: 0.0306 - val_loss: 0.0895\n",
            "Epoch 28/30\n",
            "538/539 [============================>.] - ETA: 0s - loss: 0.0298\n",
            "Epoch 28: val_loss did not improve from 0.08584\n",
            "539/539 [==============================] - 104s 194ms/step - loss: 0.0298 - val_loss: 0.0905\n",
            "Epoch 29/30\n",
            "538/539 [============================>.] - ETA: 0s - loss: 0.0297\n",
            "Epoch 29: val_loss did not improve from 0.08584\n",
            "539/539 [==============================] - 104s 194ms/step - loss: 0.0297 - val_loss: 0.0910\n",
            "Epoch 30/30\n",
            "538/539 [============================>.] - ETA: 0s - loss: 0.0293\n",
            "Epoch 30: val_loss did not improve from 0.08584\n",
            "539/539 [==============================] - 104s 194ms/step - loss: 0.0293 - val_loss: 0.0915\n"
          ]
        }
      ]
    },
    {
      "cell_type": "code",
      "source": [
        "plt.plot(history.history['loss'])\n",
        "plt.plot(history.history['val_loss'])\n",
        "plt.legend(['train','validation'])\n",
        "plt.show()"
      ],
      "metadata": {
        "id": "7UWninkNud1B",
        "outputId": "878d2fd6-8cc2-4ccc-9028-3742dcb1ef4a",
        "colab": {
          "base_uri": "https://localhost:8080/",
          "height": 430
        }
      },
      "execution_count": 42,
      "outputs": [
        {
          "output_type": "display_data",
          "data": {
            "text/plain": [
              "<Figure size 640x480 with 1 Axes>"
            ],
            "image/png": "[encoded data removed]"
          },
          "metadata": {}
        }
      ]
    },
    {
      "cell_type": "code",
      "source": [
        "model = load_model('model.h1.24_jan_19')"
      ],
      "metadata": {
        "id": "x24MyxFmDMDy"
      },
      "execution_count": 55,
      "outputs": []
    },
    {
      "cell_type": "code",
      "source": [
        "import numpy as np\n",
        "\n",
        "def logits_to_text(logits, tokenizer):\n",
        "    \"\"\"\n",
        "    Turn logits from a neural network into text using the tokenizer\n",
        "    :param logits: Logits from a neural network\n",
        "    :param tokenizer: Keras Tokenizer fit on the labels\n",
        "    :return: String that represents the text of the logits\n",
        "    \"\"\"\n",
        "    index_to_words = {id: word for word, id in tokenizer.word_index.items()}\n",
        "    index_to_words[0] = '<PAD>'\n",
        "\n",
        "    return ' '.join([index_to_words[prediction] for prediction in np.argmax(logits, 1)])\n",
        "\n",
        "print('`logits_to_text` function loaded.')"
      ],
      "metadata": {
        "id": "kzrJ0ljTurGU",
        "outputId": "05fa20cc-0546-40b1-fc06-d0238c87a3f9",
        "colab": {
          "base_uri": "https://localhost:8080/"
        }
      },
      "execution_count": 43,
      "outputs": [
        {
          "output_type": "stream",
          "name": "stdout",
          "text": [
            "`logits_to_text` function loaded.\n"
          ]
        }
      ]
    },
    {
      "cell_type": "code",
      "source": [
        "test_x = frn_test.reshape((frn_test.shape[0],frn_test.shape[1]))\n",
        "test_x[:4][1]"
      ],
      "metadata": {
        "id": "0W5ZVzkxvAp8",
        "outputId": "b74874f5-02c1-4641-a7c9-32df7b074215",
        "colab": {
          "base_uri": "https://localhost:8080/"
        }
      },
      "execution_count": 44,
      "outputs": [
        {
          "output_type": "execute_result",
          "data": {
            "text/plain": [
              "array([  21,  213,    9,    5,  472,    9,   19,   13,  144, 2678,    0,\n",
              "          0,    0,    0,    0,    0,    0,    0,    0,    0,    0,    0,\n",
              "          0,    0,    0,    0,    0,    0,    0,    0,    0,    0,    0,\n",
              "          0,    0,    0,    0,    0,    0,    0,    0,    0,    0,    0,\n",
              "          0,    0,    0,    0,    0,    0,    0,    0,    0,    0,    0,\n",
              "          0,    0,    0,    0,    0,    0,    0,    0,    0,    0,    0,\n",
              "          0,    0,    0,    0,    0,    0,    0,    0,    0,    0,    0,\n",
              "          0,    0,    0,    0,    0,    0,    0,    0,    0,    0,    0,\n",
              "          0,    0,    0,    0,    0,    0,    0,    0,    0,    0,    0,\n",
              "          0,    0,    0,    0,    0,    0,    0,    0,    0,    0,    0,\n",
              "          0], dtype=int32)"
            ]
          },
          "metadata": {},
          "execution_count": 44
        }
      ]
    },
    {
      "cell_type": "code",
      "source": [
        "test = ['Elle étudie pour devenir médecin.', 'Le restaurant sert une nourriture délicieuse.']"
      ],
      "metadata": {
        "id": "7jc2IIy7AfpY"
      },
      "execution_count": 45,
      "outputs": []
    },
    {
      "cell_type": "code",
      "source": [
        "test = encode_sequences(frn_tokenizer, frn_length, test)\n",
        "test = test.reshape((test.shape[0],test.shape[1]))"
      ],
      "metadata": {
        "id": "g-M1JYfp-mLc"
      },
      "execution_count": 46,
      "outputs": []
    },
    {
      "cell_type": "code",
      "source": [
        "test"
      ],
      "metadata": {
        "id": "y8EvODUdBswB",
        "outputId": "6911cd77-d921-45bb-fd55-af453048ffb2",
        "colab": {
          "base_uri": "https://localhost:8080/"
        }
      },
      "execution_count": 47,
      "outputs": [
        {
          "output_type": "execute_result",
          "data": {
            "text/plain": [
              "array([[  28,   76,  850,    0,    0,    0,    0,    0,    0,    0,    0,\n",
              "           0,    0,    0,    0,    0,    0,    0,    0,    0,    0,    0,\n",
              "           0,    0,    0,    0,    0,    0,    0,    0,    0,    0,    0,\n",
              "           0,    0,    0,    0,    0,    0,    0,    0,    0,    0,    0,\n",
              "           0,    0,    0,    0,    0,    0,    0,    0,    0,    0,    0,\n",
              "           0,    0,    0,    0,    0,    0,    0,    0,    0,    0,    0,\n",
              "           0,    0,    0,    0,    0,    0,    0,    0,    0,    0,    0,\n",
              "           0,    0,    0,    0,    0,    0,    0,    0,    0,    0,    0,\n",
              "           0,    0,    0,    0,    0,    0,    0,    0,    0,    0,    0,\n",
              "           0,    0,    0,    0,    0,    0,    0,    0,    0,    0,    0,\n",
              "           0],\n",
              "       [   8,  909, 1735,   41,  578,    0,    0,    0,    0,    0,    0,\n",
              "           0,    0,    0,    0,    0,    0,    0,    0,    0,    0,    0,\n",
              "           0,    0,    0,    0,    0,    0,    0,    0,    0,    0,    0,\n",
              "           0,    0,    0,    0,    0,    0,    0,    0,    0,    0,    0,\n",
              "           0,    0,    0,    0,    0,    0,    0,    0,    0,    0,    0,\n",
              "           0,    0,    0,    0,    0,    0,    0,    0,    0,    0,    0,\n",
              "           0,    0,    0,    0,    0,    0,    0,    0,    0,    0,    0,\n",
              "           0,    0,    0,    0,    0,    0,    0,    0,    0,    0,    0,\n",
              "           0,    0,    0,    0,    0,    0,    0,    0,    0,    0,    0,\n",
              "           0,    0,    0,    0,    0,    0,    0,    0,    0,    0,    0,\n",
              "           0]], dtype=int32)"
            ]
          },
          "metadata": {},
          "execution_count": 47
        }
      ]
    },
    {
      "cell_type": "code",
      "source": [
        "# print(logits_to_text(model.predict(test_x[:4][1], eng_tokenizer)))\n",
        "# print(logits_to_text(model.predict(frn_test[:20])[10], eng_tokenizer))\n",
        "\n",
        "print(logits_to_text(model.predict(test_x[:4])[3], eng_tokenizer))"
      ],
      "metadata": {
        "id": "FYTOpK0Gvw0V",
        "outputId": "e2aa3102-9366-48f2-9d0f-d1ba2c988600",
        "colab": {
          "base_uri": "https://localhost:8080/"
        }
      },
      "execution_count": 48,
      "outputs": [
        {
          "output_type": "stream",
          "name": "stdout",
          "text": [
            "1/1 [==============================] - 7s 7s/step\n",
            "im willing to apologize <PAD> <PAD> <PAD> <PAD> <PAD> <PAD> <PAD> <PAD> <PAD> <PAD> <PAD> <PAD> <PAD> <PAD> <PAD> <PAD> <PAD> <PAD> <PAD> <PAD> <PAD> <PAD> <PAD> <PAD> <PAD> <PAD> <PAD> <PAD> <PAD> <PAD> <PAD> <PAD> <PAD> <PAD> <PAD> <PAD> <PAD> <PAD> <PAD> <PAD> <PAD> <PAD> <PAD> <PAD> <PAD> <PAD> <PAD> <PAD> <PAD> <PAD> <PAD> <PAD> <PAD> <PAD> <PAD> <PAD> <PAD> <PAD> <PAD> <PAD> <PAD> <PAD> <PAD> <PAD> <PAD> <PAD> <PAD> <PAD> <PAD> <PAD> <PAD> <PAD> <PAD> <PAD> <PAD> <PAD> <PAD> <PAD> <PAD> <PAD> <PAD> <PAD> <PAD> <PAD> <PAD> <PAD> <PAD> <PAD> <PAD> <PAD> <PAD> <PAD> <PAD> <PAD> <PAD> <PAD>\n"
          ]
        }
      ]
    },
    {
      "cell_type": "code",
      "source": [
        "test_x"
      ],
      "metadata": {
        "id": "uJYXXgpN9SVA",
        "outputId": "a0ecc5d9-c20a-4f95-a3df-57f481ef547e",
        "colab": {
          "base_uri": "https://localhost:8080/"
        }
      },
      "execution_count": 49,
      "outputs": [
        {
          "output_type": "execute_result",
          "data": {
            "text/plain": [
              "array([[  3, 367, 128, ...,   0,   0,   0],\n",
              "       [ 21, 213,   9, ...,   0,   0,   0],\n",
              "       [ 10,  70,  66, ...,   0,   0,   0],\n",
              "       ...,\n",
              "       [ 10, 129,  13, ...,   0,   0,   0],\n",
              "       [  5,  47,   1, ...,   0,   0,   0],\n",
              "       [ 77,   1, 124, ...,   0,   0,   0]], dtype=int32)"
            ]
          },
          "metadata": {},
          "execution_count": 49
        }
      ]
    },
    {
      "cell_type": "code",
      "source": [
        "frn_test1[3]"
      ],
      "metadata": {
        "id": "WH_31McCwG7R",
        "outputId": "0a07143c-2702-4a39-a9d3-20544108440e",
        "colab": {
          "base_uri": "https://localhost:8080/",
          "height": 35
        }
      },
      "execution_count": 50,
      "outputs": [
        {
          "output_type": "execute_result",
          "data": {
            "text/plain": [
              "'je veux prsenter mes excuses'"
            ],
            "application/vnd.google.colaboratory.intrinsic+json": {
              "type": "string"
            }
          },
          "metadata": {},
          "execution_count": 50
        }
      ]
    },
    {
      "cell_type": "code",
      "source": [
        "eng_test1[3]"
      ],
      "metadata": {
        "id": "pWvGUCpJv_j4",
        "outputId": "8e9b5ed8-7650-45ea-e288-aa6816bbece8",
        "colab": {
          "base_uri": "https://localhost:8080/",
          "height": 35
        }
      },
      "execution_count": 51,
      "outputs": [
        {
          "output_type": "execute_result",
          "data": {
            "text/plain": [
              "'i want to apologize'"
            ],
            "application/vnd.google.colaboratory.intrinsic+json": {
              "type": "string"
            }
          },
          "metadata": {},
          "execution_count": 51
        }
      ]
    },
    {
      "cell_type": "code",
      "source": [
        "import os \n",
        "\n",
        "# Set your working directory to a folder in your Google Drive. This way, if your notebook times out,\n",
        "# your files will be saved in your Google Drive!\n",
        "\n",
        "# the base Google Drive directory\n",
        "root_dir = \"/content/drive/My Drive/\"\n",
        "\n",
        "# choose where you want your project files to be saved\n",
        "project_folder = \"Colab Notebooks/NLP_Final_Project/\"\n",
        "\n",
        "def create_and_set_working_directory(project_folder):\n",
        "  # check if your project folder exists. if not, it will be created.\n",
        "  if os.path.isdir(root_dir + project_folder) == False:\n",
        "    os.mkdir(root_dir + project_folder)\n",
        "    print(root_dir + project_folder + ' did not exist but was created.')\n",
        "\n",
        "  # change the OS to use your project folder as the working directory\n",
        "  os.chdir(root_dir + project_folder)\n",
        "\n",
        "  # create a test file to make sure it shows up in the right place\n",
        "  !touch 'new_file_in_working_directory.txt'\n",
        "  print('\\nYour working directory was changed to ' + root_dir + project_folder + \\\n",
        "        \"\\n\\nAn empty text file was created there. You can also run !pwd to confirm the current working directory.\" )\n",
        "\n",
        "create_and_set_working_directory(project_folder)"
      ],
      "metadata": {
        "id": "ezNi7JpSwgI2",
        "outputId": "c66ffd81-f9df-4838-d976-755ec7090f9e",
        "colab": {
          "base_uri": "https://localhost:8080/"
        }
      },
      "execution_count": 52,
      "outputs": [
        {
          "output_type": "stream",
          "name": "stdout",
          "text": [
            "\n",
            "Your working directory was changed to /content/drive/My Drive/Colab Notebooks/NLP_Final_Project/\n",
            "\n",
            "An empty text file was created there. You can also run !pwd to confirm the current working directory.\n"
          ]
        }
      ]
    },
    {
      "cell_type": "code",
      "source": [
        "import os\n",
        "\n",
        "# Set your working directory to a folder in your Google Drive. This way, if your notebook times out,\n",
        "# your files will be saved in your Google Drive!\n",
        "\n",
        "# the base Google Drive directory\n",
        "root_dir = \"/content/drive/My Drive/\"\n",
        "\n",
        "# choose where you want your project files to be saved\n",
        "project_folder = \"Colab Notebooks/NLP_Final_Project/\"\n",
        "\n",
        "def create_and_set_working_directory(project_folder):\n",
        "  # check if your project folder exists. if not, it will be created.\n",
        "  if os.path.isdir(root_dir + project_folder) == False:\n",
        "    os.mkdir(root_dir + project_folder)\n",
        "    print(root_dir + project_folder + ' did not exist but was created.')\n",
        "\n",
        "  # change the OS to use your project folder as the working directory\n",
        "  os.chdir(root_dir + project_folder)\n",
        "\n",
        "  # create a test file to make sure it shows up in the right place\n",
        "  !touch 'new_file_in_working_directory.txt'\n",
        "  print('\\nYour working directory was changed to ' + root_dir + project_folder + \\\n",
        "        \"\\n\\nAn empty text file was created there. You can also run !pwd to confirm the current working directory.\" )\n",
        "\n",
        "create_and_set_working_directory(project_folder)\n"
      ],
      "metadata": {
        "id": "wYKex5-kmoE4",
        "outputId": "1335a33e-e752-4b65-eedc-080247a27dbb",
        "colab": {
          "base_uri": "https://localhost:8080/"
        }
      },
      "execution_count": 53,
      "outputs": [
        {
          "output_type": "stream",
          "name": "stdout",
          "text": [
            "\n",
            "Your working directory was changed to /content/drive/My Drive/Colab Notebooks/NLP_Final_Project/\n",
            "\n",
            "An empty text file was created there. You can also run !pwd to confirm the current working directory.\n"
          ]
        }
      ]
    },
    {
      "cell_type": "code",
      "source": [
        "pwd"
      ],
      "metadata": {
        "id": "F8fwfzXUmpyP",
        "outputId": "6de133b6-7a44-48d0-ea2c-d81b9b6453f6",
        "colab": {
          "base_uri": "https://localhost:8080/",
          "height": 35
        }
      },
      "execution_count": 54,
      "outputs": [
        {
          "output_type": "execute_result",
          "data": {
            "text/plain": [
              "'/content/drive/My Drive/Colab Notebooks/NLP_Final_Project'"
            ],
            "application/vnd.google.colaboratory.intrinsic+json": {
              "type": "string"
            }
          },
          "metadata": {},
          "execution_count": 54
        }
      ]
    },
    {
      "cell_type": "code",
      "source": [],
      "metadata": {
        "id": "VCigxJ0ttaMX"
      },
      "execution_count": 54,
      "outputs": []
    },
    {
      "cell_type": "code",
      "source": [],
      "metadata": {
        "id": "tb6itDWKtcu7"
      },
      "execution_count": 54,
      "outputs": []
    }
  ]
}